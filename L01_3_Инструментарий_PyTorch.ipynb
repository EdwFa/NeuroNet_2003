{
  "cells": [
    {
      "cell_type": "markdown",
      "metadata": {
        "id": "view-in-github",
        "colab_type": "text"
      },
      "source": [
        "<a href=\"https://colab.research.google.com/github/EdwFa/NeuroNet_2003/blob/main/L01_3_%D0%98%D0%BD%D1%81%D1%82%D1%80%D1%83%D0%BC%D0%B5%D0%BD%D1%82%D0%B0%D1%80%D0%B8%D0%B9_PyTorch.ipynb\" target=\"_parent\"><img src=\"https://colab.research.google.com/assets/colab-badge.svg\" alt=\"Open In Colab\"/></a>"
      ]
    },
    {
      "cell_type": "markdown",
      "metadata": {
        "id": "iGF7kjy76P6x"
      },
      "source": [
        " <font size=\"6\">Лекция_1.Введение в нейронные сети (часть3)</font>"
      ]
    },
    {
      "cell_type": "markdown",
      "metadata": {
        "id": "LK1USFLV6P7U"
      },
      "source": [
        "#### Введение в PyTorch"
      ]
    },
    {
      "cell_type": "markdown",
      "metadata": {
        "id": "peEc5G1A6P7U"
      },
      "source": [
        "Практически вся наша работа с этого момента будет осуществляться с помощью [PyTorch](https://pytorch.org/), поэтому необходимо познакомиться с основными концептами, принципами и функциями PyTorch.\n",
        "\n",
        "Лучший друг в этом, конечно же, [документация](https://pytorch.org/docs/stable/index.html), однако можно привести основные моменты этой библиотеки/фреймворка:"
      ]
    },
    {
      "cell_type": "markdown",
      "metadata": {
        "id": "a61cPJ3D6P7U"
      },
      "source": [
        "##### Основная сущность — torch.Tensor"
      ]
    },
    {
      "cell_type": "markdown",
      "metadata": {
        "id": "FWCSbRKo6P7U"
      },
      "source": [
        "Поскольку основная сущность, с которой мы работаем, это вектора и матрицы, то для них нужен очень мощный и функциональный класс — [`torch.Tensor`](https://pytorch.org/docs/stable/tensors.html#torch.Tensor)\n",
        "\n",
        "Создание \"пустого\" тензора:"
      ]
    },
    {
      "cell_type": "code",
      "execution_count": null,
      "metadata": {
        "id": "Jk4sr1zD6P7V"
      },
      "outputs": [],
      "source": [
        "import torch\n",
        "\n",
        "a = torch.Tensor()"
      ]
    },
    {
      "cell_type": "markdown",
      "metadata": {
        "id": "TpynVe7e6P7V"
      },
      "source": [
        "Конструктор класса с заполнением существующими значениями:"
      ]
    },
    {
      "cell_type": "code",
      "execution_count": null,
      "metadata": {
        "colab": {
          "base_uri": "https://localhost:8080/"
        },
        "id": "R3zK-c8R6P7V",
        "outputId": "5886a649-3ddc-4cb9-dbd4-59d511b068bd"
      },
      "outputs": [
        {
          "output_type": "execute_result",
          "data": {
            "text/plain": [
              "torch.float32"
            ]
          },
          "metadata": {},
          "execution_count": 2
        }
      ],
      "source": [
        "a = torch.tensor([1.1, 2.2, 3.2])\n",
        "a.dtype"
      ]
    },
    {
      "cell_type": "markdown",
      "metadata": {
        "id": "Gx2kN0Tv6P7V"
      },
      "source": [
        "Явное указание типа данных:"
      ]
    },
    {
      "cell_type": "code",
      "execution_count": null,
      "metadata": {
        "colab": {
          "base_uri": "https://localhost:8080/"
        },
        "id": "FIZJ4D6g6P7V",
        "outputId": "42fa924e-39b4-4d5a-ad21-836b0134a3f7"
      },
      "outputs": [
        {
          "output_type": "execute_result",
          "data": {
            "text/plain": [
              "torch.float64"
            ]
          },
          "metadata": {},
          "execution_count": 3
        }
      ],
      "source": [
        "a = torch.tensor([1.1, 2.2, 3.2], dtype=torch.float64)\n",
        "a.dtype"
      ]
    },
    {
      "cell_type": "markdown",
      "metadata": {
        "id": "tfuuyv-H6P7W"
      },
      "source": [
        "Создание 2-мерного тензора, заполненного единицами (для нулей zeros)"
      ]
    },
    {
      "cell_type": "code",
      "execution_count": null,
      "metadata": {
        "colab": {
          "base_uri": "https://localhost:8080/"
        },
        "id": "_AsxQlEB6P7W",
        "outputId": "127b523e-c1a1-4a05-e952-0a759d79d1d6"
      },
      "outputs": [
        {
          "output_type": "execute_result",
          "data": {
            "text/plain": [
              "torch.Size([3, 2])"
            ]
          },
          "metadata": {},
          "execution_count": 4
        }
      ],
      "source": [
        "a = torch.ones(size=(3, 2))\n",
        "a.size()"
      ]
    },
    {
      "cell_type": "markdown",
      "metadata": {
        "id": "XB-OJxDs6P7W"
      },
      "source": [
        "Создание 2-мерного тензора, заполненного указанным значением\n"
      ]
    },
    {
      "cell_type": "code",
      "execution_count": null,
      "metadata": {
        "colab": {
          "base_uri": "https://localhost:8080/"
        },
        "id": "Sccs4Mcd6P7W",
        "outputId": "6db8e58e-8e25-43b4-c119-c995423d3b77"
      },
      "outputs": [
        {
          "output_type": "execute_result",
          "data": {
            "text/plain": [
              "tensor([[5.1000, 5.1000],\n",
              "        [5.1000, 5.1000],\n",
              "        [5.1000, 5.1000]])"
            ]
          },
          "metadata": {},
          "execution_count": 5
        }
      ],
      "source": [
        "a = torch.full((3, 2), 5.1)\n",
        "a"
      ]
    },
    {
      "cell_type": "markdown",
      "metadata": {
        "id": "Se9sHCul6P7W"
      },
      "source": [
        "Транспонирование (изменение порядка осей)"
      ]
    },
    {
      "cell_type": "code",
      "execution_count": null,
      "metadata": {
        "colab": {
          "base_uri": "https://localhost:8080/"
        },
        "id": "xj9NtQK_6P7W",
        "outputId": "79e66be2-a7c8-4d4e-baa8-0d78c298fe01"
      },
      "outputs": [
        {
          "output_type": "execute_result",
          "data": {
            "text/plain": [
              "tensor([[5.1000, 5.1000, 5.1000],\n",
              "        [5.1000, 5.1000, 5.1000]])"
            ]
          },
          "metadata": {},
          "execution_count": 6
        }
      ],
      "source": [
        "a = a.T\n",
        "a"
      ]
    },
    {
      "cell_type": "markdown",
      "metadata": {
        "id": "hSovjWWw6P7W"
      },
      "source": [
        "В библиотеке доступно огромное количество встроенных математических примитивов"
      ]
    },
    {
      "cell_type": "code",
      "execution_count": null,
      "metadata": {
        "colab": {
          "base_uri": "https://localhost:8080/"
        },
        "id": "osd04rSS6P7X",
        "outputId": "77626755-a322-4715-f22f-e51acc3b24b7"
      },
      "outputs": [
        {
          "output_type": "execute_result",
          "data": {
            "text/plain": [
              "tensor([0.7854, 0.7854, 0.7854])"
            ]
          },
          "metadata": {},
          "execution_count": 7
        }
      ],
      "source": [
        "c = torch.atan2(a[0], a[1])\n",
        "c"
      ]
    },
    {
      "cell_type": "markdown",
      "metadata": {
        "id": "nQXSvgMK6P7X"
      },
      "source": [
        "Почти всё, что есть в NumPy, есть в PyTorch, например, `sum()`:"
      ]
    },
    {
      "cell_type": "code",
      "execution_count": null,
      "metadata": {
        "colab": {
          "base_uri": "https://localhost:8080/"
        },
        "id": "5Dofygv46P7X",
        "outputId": "e3d1f72b-7987-4a9b-d7e7-5c18909ed0f8"
      },
      "outputs": [
        {
          "output_type": "execute_result",
          "data": {
            "text/plain": [
              "tensor(2.3562)"
            ]
          },
          "metadata": {},
          "execution_count": 8
        }
      ],
      "source": [
        "c.sum()"
      ]
    },
    {
      "cell_type": "markdown",
      "metadata": {
        "id": "jbcQBwKv6P7X"
      },
      "source": [
        "Перестановка, удаление и добавление пространственных измерений:"
      ]
    },
    {
      "cell_type": "code",
      "execution_count": null,
      "metadata": {
        "colab": {
          "base_uri": "https://localhost:8080/"
        },
        "id": "Lrwf1Iui6P7Y",
        "outputId": "5e90afb4-4b48-4440-e3a5-6588f207bd3e"
      },
      "outputs": [
        {
          "output_type": "stream",
          "name": "stdout",
          "text": [
            "Original tensor size:\n",
            " torch.Size([2, 5, 1, 8])\n",
            "After permute tensor size:\n",
            " torch.Size([1, 2, 8, 5])\n",
            "After squzee tensor size:\n",
            " torch.Size([2, 8, 5])\n",
            "After unsquzee tensor size:\n",
            " torch.Size([1, 2, 8, 5])\n"
          ]
        }
      ],
      "source": [
        "a = torch.zeros((2, 5, 1, 8))\n",
        "print(\"Original tensor size:\\n\", a.size())\n",
        "\n",
        "a = a.permute(dims=(2, 0, 3, 1))  # permute dimensions\n",
        "print(\"After permute tensor size:\\n\", a.size())\n",
        "\n",
        "a = a.squeeze()  # delete dimension\n",
        "print(\"After squzee tensor size:\\n\", a.size())\n",
        "\n",
        "a = a.unsqueeze(dim=0)  # add dimension\n",
        "print(\"After unsquzee tensor size:\\n\", a.size())"
      ]
    },
    {
      "cell_type": "markdown",
      "metadata": {
        "id": "IHFQtzgl6P7Y"
      },
      "source": [
        "Преобразование torch.Tensor в NumPy-массив:"
      ]
    },
    {
      "cell_type": "code",
      "execution_count": null,
      "metadata": {
        "colab": {
          "base_uri": "https://localhost:8080/"
        },
        "id": "cfs0wW5T6P7Y",
        "outputId": "edab70df-de28-4f04-9e31-bccf37450933"
      },
      "outputs": [
        {
          "output_type": "execute_result",
          "data": {
            "text/plain": [
              "array([[[[0., 0., 0., 0., 0.],\n",
              "         [0., 0., 0., 0., 0.],\n",
              "         [0., 0., 0., 0., 0.],\n",
              "         [0., 0., 0., 0., 0.],\n",
              "         [0., 0., 0., 0., 0.],\n",
              "         [0., 0., 0., 0., 0.],\n",
              "         [0., 0., 0., 0., 0.],\n",
              "         [0., 0., 0., 0., 0.]],\n",
              "\n",
              "        [[0., 0., 0., 0., 0.],\n",
              "         [0., 0., 0., 0., 0.],\n",
              "         [0., 0., 0., 0., 0.],\n",
              "         [0., 0., 0., 0., 0.],\n",
              "         [0., 0., 0., 0., 0.],\n",
              "         [0., 0., 0., 0., 0.],\n",
              "         [0., 0., 0., 0., 0.],\n",
              "         [0., 0., 0., 0., 0.]]]], dtype=float32)"
            ]
          },
          "metadata": {},
          "execution_count": 7
        }
      ],
      "source": [
        "a.numpy()"
      ]
    },
    {
      "cell_type": "markdown",
      "metadata": {
        "id": "jOVi4QV76P7Y"
      },
      "source": [
        "PyTorch позволяет тензору быть представлением (view) существующего тензора. Тензор представления использует те же базовые данные, что и его базовый тензор. Поддержка `view` позволяет избежать явного копирования данных, что позволяет нам выполнять быстрое и эффективное изменение формы, нарезку и операции с элементами."
      ]
    },
    {
      "cell_type": "code",
      "execution_count": null,
      "metadata": {
        "colab": {
          "base_uri": "https://localhost:8080/"
        },
        "id": "6Z-HTg1S6P7Z",
        "outputId": "2644983e-49f3-45fa-acb1-05310c40cdf9"
      },
      "outputs": [
        {
          "output_type": "stream",
          "name": "stdout",
          "text": [
            "Original tensor:\n",
            " tensor([[0.5144, 0.0526, 0.9402, 0.0610, 0.8708, 0.6226, 0.6889, 0.4427],\n",
            "        [0.2233, 0.5118, 0.2653, 0.3512, 0.2926, 0.2640, 0.0709, 0.1466]])\n",
            "Tensor after view tensor:\n",
            " tensor([[0.5144, 0.0526, 0.9402, 0.0610],\n",
            "        [0.8708, 0.6226, 0.6889, 0.4427],\n",
            "        [0.2233, 0.5118, 0.2653, 0.3512],\n",
            "        [0.2926, 0.2640, 0.0709, 0.1466]])\n",
            "Add 1 to tensor:\n",
            " tensor([[1.5144, 1.0526, 1.9402, 1.0610],\n",
            "        [1.8708, 1.6226, 1.6889, 1.4427],\n",
            "        [1.2233, 1.5118, 1.2653, 1.3512],\n",
            "        [1.2926, 1.2640, 1.0709, 1.1466]])\n"
          ]
        }
      ],
      "source": [
        "a = torch.rand(2, 8)\n",
        "print(\"Original tensor:\\n\", a)\n",
        "b = a.view(\n",
        "    4, 4\n",
        ")  # carefully with structured data, reshape/view can transform image to unreadable view\n",
        "print(\"Tensor after view tensor:\\n\", b)\n",
        "b += 1\n",
        "print(\"Add 1 to tensor:\\n\", b)"
      ]
    },
    {
      "cell_type": "markdown",
      "metadata": {
        "id": "JWRKDMNG6P7Z"
      },
      "source": [
        "Размещение тензора на GPU:"
      ]
    },
    {
      "cell_type": "code",
      "execution_count": null,
      "metadata": {
        "colab": {
          "base_uri": "https://localhost:8080/"
        },
        "id": "Ozwe02Yw6P7Z",
        "outputId": "39c85a13-11f9-4264-dce5-42857dbb16c9"
      },
      "outputs": [
        {
          "output_type": "stream",
          "name": "stdout",
          "text": [
            "Cuda available:  False \n",
            "\n"
          ]
        },
        {
          "output_type": "execute_result",
          "data": {
            "text/plain": [
              "tensor([[3.0288, 2.1051, 3.8805, 2.1220, 3.7416, 3.2451, 3.3777, 2.8854],\n",
              "        [2.4466, 3.0235, 2.5306, 2.7025, 2.5853, 2.5280, 2.1418, 2.2931]])"
            ]
          },
          "metadata": {},
          "execution_count": 12
        }
      ],
      "source": [
        "device = torch.device(\"cuda:0\" if torch.cuda.is_available() else \"cpu\")\n",
        "print(\"Cuda available: \", torch.cuda.is_available(), \"\\n\")\n",
        "a = a.to(device)  # tensor to gpu\n",
        "b = torch.full_like(a, 2).to(device)\n",
        "c = a * b  # compute on gpu (more fast with parallel computing)\n",
        "c"
      ]
    },
    {
      "cell_type": "markdown",
      "metadata": {
        "id": "UHwSNCcQ6P7Z"
      },
      "source": [
        "##### Автоматическое вычисление градиентов"
      ]
    },
    {
      "cell_type": "markdown",
      "metadata": {
        "id": "egj6_pq76P7Z"
      },
      "source": [
        "PyTorch умеет запоминать последовательность операций с нашими тензорами и вычислять градиент."
      ]
    },
    {
      "cell_type": "code",
      "execution_count": null,
      "metadata": {
        "colab": {
          "base_uri": "https://localhost:8080/"
        },
        "id": "cFA8R4yY6P7a",
        "outputId": "0a3462a7-fe87-447a-d188-58fbb2e8c250"
      },
      "outputs": [
        {
          "output_type": "stream",
          "name": "stdout",
          "text": [
            "W.grad = None (before forward pass must be 'None')\n",
            "MSE = 7.5\n",
            "W.grad = -15.0\n"
          ]
        }
      ],
      "source": [
        "x_train = torch.tensor([1.0, 2.0, 3.0, 4.0])\n",
        "y_train = torch.tensor([2.0, 4.0, 6.0, 8.0])\n",
        "\n",
        "W = torch.tensor(1.0, requires_grad=True)\n",
        "\n",
        "print(f\"W.grad = {W.grad} (before forward pass must be 'None')\")\n",
        "\n",
        "y_pred = W * x_train\n",
        "criterion = torch.nn.MSELoss()\n",
        "MSE = criterion(y_pred, y_train)\n",
        "print(f\"MSE = {MSE}\")\n",
        "\n",
        "# backward pass to compute gradient dMSE/dw\n",
        "MSE.backward()\n",
        "print(f\"W.grad = {W.grad}\")"
      ]
    },
    {
      "cell_type": "markdown",
      "metadata": {
        "id": "5igwsQ846P7a"
      },
      "source": [
        "Отсоединение тензора от графа вычислений (используйте при копировании тензора):"
      ]
    },
    {
      "cell_type": "code",
      "execution_count": null,
      "metadata": {
        "colab": {
          "base_uri": "https://localhost:8080/"
        },
        "id": "eWLur9gU6P7a",
        "outputId": "203e3672-2b58-4ecb-91a5-6bc928456a33"
      },
      "outputs": [
        {
          "output_type": "execute_result",
          "data": {
            "text/plain": [
              "tensor(1.)"
            ]
          },
          "metadata": {},
          "execution_count": 14
        }
      ],
      "source": [
        "W.detach()"
      ]
    },
    {
      "cell_type": "markdown",
      "metadata": {
        "id": "YCqUzUOP6P7a"
      },
      "source": [
        "##### Другие интересные подмодули фреймворка"
      ]
    },
    {
      "cell_type": "markdown",
      "metadata": {
        "id": "xyR3PkBk6P7a"
      },
      "source": [
        "\n",
        "Torch\n",
        "\n",
        "* ```torch.nn``` — модуль для работы с нейронными сетями в стиле ООП\n",
        "* ```torch.nn.functional``` — то же, что выше, но в функциональном стиле\n",
        "* ```torch.utils.data``` — создание датасета, даталоадера\n",
        "* ```torch.linalg``` — линейная алгебра\n",
        "* ```torch.fft``` — преобразования Фурье\n",
        "* ```torch.random``` — реализация функций, связанных со случайностью\n",
        "\n",
        "\n",
        "[Torchvision](https://pytorch.org/vision/stable/index.html) — работа с изображениями\n",
        "* ```torchvision.transforms``` — трансформации и предобработки для изображений\n",
        "* ```torchvision.datasets``` — учебные датасеты\n",
        "* ```torchvision.models``` — готовые модели для обработки изображений\n",
        "\n",
        "[Torchaudio](https://pytorch.org/audio/stable/index.html) — работа с аудио.\n",
        "* ```torchaudio.transforms``` — общие методы обработки звука и извлечения признаков\n",
        "* ```torchaudio.datasets``` — учебные датасеты\n",
        "* ```torchaudio.models``` — готовые модели для обработки аудио\n",
        "\n",
        "[Torchtext](https://pytorch.org/text/stable/index.html) — работа с текстом.\n",
        "* ```torchtext.transforms``` — общие методы предобработки и трансформации текста\n",
        "\n",
        "etc."
      ]
    },
    {
      "cell_type": "markdown",
      "metadata": {
        "id": "tTha31TG6P7a"
      },
      "source": [
        "####  Backprop in PyTorch\n"
      ]
    },
    {
      "cell_type": "markdown",
      "metadata": {
        "id": "8UScmelH6P7b"
      },
      "source": [
        "Рассмотрим алгоритм обратного распространения на примере вычисления квадрата ошибки для линейной регрессии (для простоты не будем рассматривать смещение):\n",
        "\n",
        "$$y=w\\cdot x, \\quad при \\;x=[1,2,3,4],\\;y=[2,4,6,8],\\;w=1$$\n",
        "\n",
        "В данном примере видно, что предсказанный моделью $\\hat{y}=[1,2,3,4]$ не совпадает с истинными значениями $y$, и, соответственно, квадратичная ошибка для такого примера будет: $$MSE=\\frac{1}{4}\\sum_{i=1}^4E_i^2=\\frac{1}{4}\\sum_{i=1}^4(\\hat{y}_i-y_i)^2=\\frac{1+4+9+16}{4}=7.5$$\n",
        "\n",
        "Градиент весов $w$ вычисляется следующим образом, в соответствии с цепным правилом:\n",
        "\n",
        "$$\\frac{d MSE}{d w} = \\frac{\\partial MSE}{\\partial E}\\cdot \\frac{\\partial E}{\\partial \\hat{y}}\\cdot \\frac{\\partial \\hat{y}}{\\partial w}$$\n",
        "\n",
        "Рассчитаем его с использованием PyTorch:\n",
        "\n"
      ]
    },
    {
      "cell_type": "code",
      "execution_count": null,
      "metadata": {
        "colab": {
          "base_uri": "https://localhost:8080/"
        },
        "id": "3FCm0Xdi6P7b",
        "outputId": "6f6a644b-2b62-42cd-c77c-26f63ad573ef"
      },
      "outputs": [
        {
          "output_type": "stream",
          "name": "stdout",
          "text": [
            "W.grad = None (before forward pass must be 'None')\n",
            "\n",
            "MSE = 7.5\n",
            "W.grad = -15.0\n",
            "E.grad = None\n"
          ]
        }
      ],
      "source": [
        "x_train = torch.tensor([1, 2, 3, 4], dtype=torch.float32)\n",
        "y_train = torch.tensor([2, 4, 6, 8], dtype=torch.float32)\n",
        "\n",
        "# This is the parameter we want to optimize -> requires_grad=True\n",
        "W = torch.tensor(1.0, dtype=torch.float32, requires_grad=True)\n",
        "print(f\"W.grad = {W.grad} (before forward pass must be 'None')\\n\")\n",
        "# forward pass to compute MSE\n",
        "y_pred = W * x_train\n",
        "E = y_pred - y_train\n",
        "SE = E**2\n",
        "MSE = SE.mean()\n",
        "print(f\"MSE = {MSE}\")\n",
        "\n",
        "# backward pass to compute gradient dMSE/dw\n",
        "MSE.backward()\n",
        "print(f\"W.grad = {W.grad}\")\n",
        "print(f\"E.grad = {E.retain_grad()}\")"
      ]
    },
    {
      "cell_type": "markdown",
      "metadata": {
        "id": "OWZ0RpNr6P7b"
      },
      "source": [
        "В данном примере мы произвели следующие расчеты:\n",
        "\n",
        "$\\displaystyle \\frac{\\partial MSE}{\\partial E}=\\frac{\\sum\\partial E^2}{\\partial E}=\\frac{1}{4}\\cdot2\\cdot E=\\frac{1}{2}*[-1, -2, -3, -4]=[-0.5, -1, -1.5, -2]\\quad $ $*$ — поэлементное умножение\n",
        "\n",
        "$\\displaystyle \\frac{\\partial E}{\\partial \\hat{y}}=\\frac{\\partial (\\hat{y}-y)}{\\partial \\hat{y}}=1$\n",
        "\n",
        "$\\displaystyle \\frac{\\partial \\hat{y}}{\\partial w}=\\frac{\\partial wx}{\\partial w}=x=[1, 2, 3, 4]$\n",
        "\n",
        "$\\displaystyle \\frac{d MSE}{d w} = \\frac{\\partial MSE}{\\partial E}\\cdot \\frac{\\partial E}{\\partial \\hat{y}}\\cdot \\frac{\\partial \\hat{y}}{\\partial w}=\\sum[-0.5, -1, -1.5, -2]*[1, 2, 3, 4]=-0.5-2-4.5-8=-15$"
      ]
    },
    {
      "cell_type": "markdown",
      "metadata": {
        "id": "GblUpNIW6P7b"
      },
      "source": [
        "`MSE.backward()` автоматически вычисляет градиент $\\large \\frac{dMSE}{dw}$ при указании `requires_grad=True`.\n",
        "Результаты вычислений будут храниться в `W.grad`. Для всех промежуточных переменных градиенты не сохраняются, поэтому попытка обратиться, например, к `E.grad` выдает `None`.\n",
        "\n",
        "Также после однократного обратного прохода в целях экономии памяти граф, используемый для вычисления градиента, будет удаляться, и следующий запуск `MSE.backward()` будет выдавать ошибку:"
      ]
    },
    {
      "cell_type": "markdown",
      "metadata": {
        "id": "lYP9XDgw6P7b"
      },
      "source": [
        "\n",
        "\n",
        "```\n",
        "MSE.backward() # Error on second backward call\n",
        "```\n",
        "\n"
      ]
    },
    {
      "cell_type": "markdown",
      "metadata": {
        "id": "Io0TBNIB6P7b"
      },
      "source": [
        "Чтобы сохранить вычислительный граф, для аргумента `retain_graph` функции `backward()` нужно указать значение `True`. Также может быть полезным сохранять значения градиентов для промежуточных переменных, это делается с помощью функции `tensor.retain_grad()`. В таком случае, значения градиентов, полученные на следующих итерациях обратного распространения ошибки, будут складываться с текущими значениями градиентов.\n",
        "\n",
        "Градиенты переменных, для которых был указан `retain_graph=True`, сохраняются автоматически. Чтобы избежать их накопления при многократном итерировании алгоритма обратного распространения, нужно обнулять градиент на каждом шаге с помощью функции `tensor.grad.zero_()`."
      ]
    },
    {
      "cell_type": "code",
      "execution_count": null,
      "metadata": {
        "colab": {
          "base_uri": "https://localhost:8080/"
        },
        "id": "otTc5egW6P7c",
        "outputId": "2b676227-91b0-4268-ec5c-5331b508910e"
      },
      "outputs": [
        {
          "output_type": "stream",
          "name": "stdout",
          "text": [
            "========== Backprop 1 ==============\n",
            "dMSE/dE = tensor([-0.5000, -1.0000, -1.5000, -2.0000])\n",
            "dMSE/dW = -15.0\n",
            "========== Backprop 2 ==============\n",
            "dMSE/dE = tensor([-1., -2., -3., -4.])\n",
            "dMSE/dW = -30.0\n",
            "========== Backprop 3 ==============\n",
            "dMSE/dE = tensor([-1.5000, -3.0000, -4.5000, -6.0000])\n",
            "dMSE/dW = -15.0\n"
          ]
        }
      ],
      "source": [
        "x_train = torch.tensor([1, 2, 3, 4], dtype=torch.float32)\n",
        "y_train = torch.tensor([2, 4, 6, 8], dtype=torch.float32)\n",
        "\n",
        "# This is the parameter we want to optimize -> requires_grad=True\n",
        "W = torch.tensor(1.0, dtype=torch.float32, requires_grad=True)\n",
        "\n",
        "# forward pass to compute MSE\n",
        "y_pred = W * x_train\n",
        "E = y_pred - y_train\n",
        "E.retain_grad()  # Save grads for intermediate tensor E in memory\n",
        "SE = E**2\n",
        "MSE = SE.sum().div(4)\n",
        "\n",
        "print(\"========== Backprop 1 ==============\")\n",
        "MSE.backward(retain_graph=True)\n",
        "print(f\"dMSE/dE = {E.grad}\")\n",
        "print(f\"dMSE/dW = {W.grad}\")\n",
        "\n",
        "print(\"========== Backprop 2 ==============\")\n",
        "MSE.backward(retain_graph=True)\n",
        "# Gradients are accumulated\n",
        "print(f\"dMSE/dE = {E.grad}\")\n",
        "print(f\"dMSE/dW = {W.grad}\")\n",
        "\n",
        "print(\"========== Backprop 3 ==============\")\n",
        "W.grad.zero_()  # Nullify gradients for W for the next iteration\n",
        "MSE.backward(retain_graph=True)\n",
        "# Gradients for W are not accumulated, but not for E\n",
        "print(f\"dMSE/dE = {E.grad}\")\n",
        "print(f\"dMSE/dW = {W.grad}\")"
      ]
    },
    {
      "cell_type": "markdown",
      "metadata": {
        "id": "tI_gHTJz6P7c"
      },
      "source": [
        "Итак, мы умеем вычислять градиент $\\large \\frac{\\partial MSE}{\\partial w}$ для нашего примера. Теперь давайте с его помощью оптимизируем веса, используя алгоритм обратного распространения ошибки:"
      ]
    },
    {
      "cell_type": "code",
      "execution_count": null,
      "metadata": {
        "colab": {
          "base_uri": "https://localhost:8080/"
        },
        "id": "9WiMpDZR6P7c",
        "outputId": "d6c79f58-f90f-43e1-fbf1-4864b8ca6f0a"
      },
      "outputs": [
        {
          "output_type": "stream",
          "name": "stdout",
          "text": [
            "Prediction before training: f(x) = tensor([1., 2., 3., 4.], grad_fn=<MulBackward0>)\n",
            "True values: y = tensor([2., 4., 6., 8.])\n",
            "\n",
            "epoch 1: w = 1.144, loss = 6.41718674\n",
            "epoch 11: w = 1.608, loss = 1.34952068\n",
            "epoch 21: w = 1.820, loss = 0.28380114\n",
            "epoch 31: w = 1.917, loss = 0.05968266\n",
            "epoch 41: w = 1.962, loss = 0.01255111\n",
            "epoch 51: w = 1.983, loss = 0.00263946\n",
            "epoch 61: w = 1.992, loss = 0.00055505\n",
            "epoch 71: w = 1.996, loss = 0.00011674\n",
            "epoch 81: w = 1.998, loss = 0.00002455\n",
            "epoch 91: w = 1.999, loss = 0.00000516\n",
            "epoch 101: w = 2.000, loss = 0.00000109\n",
            "\n",
            "Prediction after training: f(x) = tensor([1.9996, 3.9993, 5.9989, 7.9986], grad_fn=<MulBackward0>)\n",
            "True values: y = tensor([2., 4., 6., 8.])\n"
          ]
        }
      ],
      "source": [
        "x_train = torch.tensor([1, 2, 3, 4], dtype=torch.float32)\n",
        "y_train = torch.tensor([2, 4, 6, 8], dtype=torch.float32)\n",
        "\n",
        "W = torch.tensor(1.0, dtype=torch.float32, requires_grad=True)\n",
        "\n",
        "\n",
        "# Define model output\n",
        "def forward(x_train):\n",
        "    return W * x_train\n",
        "\n",
        "\n",
        "# Compute MSE loss\n",
        "def criterion(y_pred, y_train):\n",
        "    return ((y_pred - y_train) ** 2).mean()\n",
        "\n",
        "\n",
        "print(f\"Prediction before training: f(x) = {forward(x_train)}\")\n",
        "print(f\"True values: y = {y_train}\\n\")\n",
        "\n",
        "# Training\n",
        "learning_rate = 0.005\n",
        "num_epochs = 102\n",
        "\n",
        "for epoch in range(num_epochs):\n",
        "    # Propagate forward\n",
        "    y_pred = forward(x_train)\n",
        "\n",
        "    # Compute MSE loss\n",
        "    MSE = criterion(y_pred, y_train)\n",
        "\n",
        "    # Propagate backward, compute gradients\n",
        "    MSE.backward()\n",
        "\n",
        "    # Update weights\n",
        "    with torch.no_grad():  #  We don't want this step to be the part of the computational graph\n",
        "        W -= learning_rate * W.grad\n",
        "\n",
        "    # Nullify gradients after updating to avoid their accumulation\n",
        "    W.grad.zero_()\n",
        "\n",
        "    if epoch % 10 == 1:\n",
        "        print(f\"epoch {epoch}: w = {W.item():.3f}, loss = {MSE.item():.8f}\")\n",
        "\n",
        "print(f\"\\nPrediction after training: f(x) = {forward(x_train)}\")\n",
        "print(f\"True values: y = {y_train}\")"
      ]
    },
    {
      "cell_type": "markdown",
      "metadata": {
        "id": "scQ-KlYV6P7c"
      },
      "source": [
        "Видно, что наш подход позволяет оптимизировать вес $w$ регрессии из примера и таким образом добиться почти идеального предсказания нашей модели, однако в данном подходе дополнительно можно автоматизировать вычисление функции потерь и обновление параметров с учетом градиента, используя готовые функции потерь из `torch.nn` и оптимизаторы из `torch.optim`."
      ]
    },
    {
      "cell_type": "code",
      "execution_count": null,
      "metadata": {
        "colab": {
          "base_uri": "https://localhost:8080/"
        },
        "id": "kp8ESb9c6P7c",
        "outputId": "55acd840-b9f0-4838-a1a5-3fbd4e221fb6"
      },
      "outputs": [
        {
          "output_type": "stream",
          "name": "stdout",
          "text": [
            "Prediction before training: f(x) = tensor([1., 2., 3., 4.], grad_fn=<MulBackward0>)\n",
            "True values: y = tensor([2., 4., 6., 8.])\n",
            "\n",
            "epoch 1: w = 1.144, loss = 6.41718674\n",
            "epoch 11: w = 1.608, loss = 1.34951985\n",
            "epoch 21: w = 1.820, loss = 0.28380090\n",
            "epoch 31: w = 1.917, loss = 0.05968266\n",
            "epoch 41: w = 1.962, loss = 0.01255111\n",
            "epoch 51: w = 1.983, loss = 0.00263946\n",
            "epoch 61: w = 1.992, loss = 0.00055505\n",
            "epoch 71: w = 1.996, loss = 0.00011674\n",
            "epoch 81: w = 1.998, loss = 0.00002455\n",
            "epoch 91: w = 1.999, loss = 0.00000516\n",
            "epoch 101: w = 2.000, loss = 0.00000109\n",
            "\n",
            "Prediction after training: f(x) = tensor([1.9996, 3.9993, 5.9989, 7.9986], grad_fn=<MulBackward0>)\n",
            "True values: y = tensor([2., 4., 6., 8.])\n"
          ]
        }
      ],
      "source": [
        "import torch.nn as nn\n",
        "\n",
        "x_train = torch.tensor([1, 2, 3, 4], dtype=torch.float32)\n",
        "y_train = torch.tensor([2, 4, 6, 8], dtype=torch.float32)\n",
        "\n",
        "W = torch.tensor(1.0, dtype=torch.float32, requires_grad=True)\n",
        "\n",
        "\n",
        "# Define model output\n",
        "def forward(x_train):\n",
        "    return W * x_train\n",
        "\n",
        "\n",
        "print(f\"Prediction before training: f(x) = {forward(x_train)}\")\n",
        "print(f\"True values: y = {y_train}\\n\")\n",
        "\n",
        "# Training\n",
        "learning_rate = 0.005\n",
        "num_epochs = 102\n",
        "\n",
        "criterion = nn.MSELoss()\n",
        "optimizer = torch.optim.SGD([W], lr=learning_rate)\n",
        "\n",
        "for epoch in range(num_epochs):\n",
        "    # Propagate forward\n",
        "    y_pred = forward(x_train)\n",
        "\n",
        "    # Compute MSE loss\n",
        "    MSE = criterion(y_pred, y_train)\n",
        "\n",
        "    # Propagate backward, compute gradients\n",
        "    MSE.backward()\n",
        "\n",
        "    # Update weights\n",
        "    optimizer.step()\n",
        "\n",
        "    # Nullify gradients after updating to avoid their accumulation\n",
        "    optimizer.zero_grad()\n",
        "\n",
        "    if epoch % 10 == 1:\n",
        "        print(f\"epoch {epoch}: w = {W.item():.3f}, loss = {MSE.item():.8f}\")\n",
        "\n",
        "print(f\"\\nPrediction after training: f(x) = {forward(x_train)}\")\n",
        "print(f\"True values: y = {y_train}\")"
      ]
    },
    {
      "cell_type": "markdown",
      "metadata": {
        "id": "exE2h_ka6P7d"
      },
      "source": [
        "###  Преимущества и недостатки метода"
      ]
    },
    {
      "cell_type": "markdown",
      "metadata": {
        "id": "PVQBHdhL6P7d"
      },
      "source": [
        "В настоящее время метод обратного распространения ошибки фактически стал стандартом при обучении широкого спектра современных архитектур нейронных сетей. Этот метод даёт итерационное решение задачи поиска минимума функционала ошибки, последовательно подстраивая веса нейронной сети в ходе обучения. К сожалению, такой подход не гарантирует, что в ходе обучения нейронной сети мы действительно достигнем абсолютного (глобального) минимума функции потерь. Кроме того, в силу итерационной природы алгоритма, для обучения может потребоваться огромное количество циклов, что иногда приводит к необходимости проводить вычисления непрерывно в течение дней, недель или даже месяцев. Остановимся ещё на некоторых трудностях, которые могут сопровождать метод обратного распространения ошибки:  "
      ]
    },
    {
      "cell_type": "markdown",
      "metadata": {
        "id": "4_1OXrIP6P7d"
      },
      "source": [
        "* Остановка обучения в локальном минимуме функции потерь\n",
        "\n",
        "    На функцию потерь нейронной сети можно смотреть как на определенную поверхность в пространстве высокой размерности (размерность пространства соответствует числу весов нейронной сети). Скажем, если бы у нейронной сети было всего два веса, то такая поверхность была бы похожа на земной рельеф.\n",
        "\n",
        "    Поверхность функции потерь во всех возникающих на практике случаях достаточно сложна и содержит высокоразмерные аналоги холмов, впадин, долин и всевозможных их комбинаций. Применяя градиентный спуск, мы фактически движемся по такой поверхности в направлении самого \"крутого\" склона вниз, начиная своё движение из какой-то фиксированной точки поверхности. Может так оказаться, что мы начали своё движение по поверхности неподалёку от небольшой впадины (локального минимума функции потерь) и, \"закатившись\" в него, не сможем больше из него выбраться, даже если совсем неподалёку в пространстве весов сети будет присутствовать значительно более \"глубокий\" минимум — все пути из неглубокого локального минимума находятся в направлении, противоположном тому, согласно которому мы движемся при методе градиентного спуска. Чтобы \"выпрыгнуть\" из такого нежелательного локального минимума, может потребоваться кратковременно увеличить скорость обучения (фактически размер шага). Проблема выбора алгоритма задания оптимального шага обучения во время градиентного спуска в общем случае не решена.\n",
        "\n",
        "    Наглядные визуализации поверхностей функций потерь настоящих нейронных сетей можно найти на странице [проекта LossLandscape](https://losslandscape.com/). Интерактивный инструмент по визуализации градиентного спуска доступен по ссылке: [LossLandscape Explorer](https://losslandscape.com/explorer)."
      ]
    },
    {
      "cell_type": "markdown",
      "metadata": {
        "id": "og9aLY0t6P7d"
      },
      "source": [
        "* Паралич сети\n",
        "\n",
        "    Пусть мы обучаем многослойную нейронную сеть, в которой в качестве функции активации нейронов используются сигмоидальные функции (логистическая функция или гиперболический тангенс). Если мы допустим слишком сильное обновление весов у большого числа нейронов, чего можно легко добиться выбором слишком большой величины скорости (шага) обучения, то дальнейшее обучение сети фактически может остановиться. Дело в том, что в области больших по модулю значений аргумента сигмоидальной функции она практически не изменяется, а значит её производная слабо отличается от нуля. Так как обновление весов на следующем шаге градиентного спуска будет пропорционально значению производной функции активации, то оно также будет близко к нулю. Такой переход нейронов в \"насыщение\" может быть уже необратимым, и методу градиентного спуска потребуется неограниченно много времени для возвращения сети в исходное \"рабочее\" состояние."
      ]
    },
    {
      "cell_type": "markdown",
      "metadata": {
        "id": "Sx8IWg246P7e"
      },
      "source": [
        "##  Функции потерь (loss functions)"
      ]
    },
    {
      "cell_type": "markdown",
      "metadata": {
        "id": "UrQExk1W6P7e"
      },
      "source": [
        "Предположим, у нас есть нейронная сеть с некоторыми весами. Прежде всего мы должны понять, насколько она точна, то есть насколько наши ожидания соответствуют результату работы нейронной сети. Мы подали на вход нейронной сети изображение, сигналы прошли через наши слои и функции активации вперёд **(forward propagation)**, и на выходе мы имеем некоторый ответ. Как его оценить? Насколько он точен?"
      ]
    },
    {
      "cell_type": "markdown",
      "metadata": {
        "id": "vXr1A-7v6P7e"
      },
      "source": [
        "Для оценки соответствия полученного результата ожидаемому, используют функцию потерь (loss function). Значение функции потерь даёт количественную оценку величины такого соответствия."
      ]
    },
    {
      "cell_type": "markdown",
      "metadata": {
        "id": "DPiwD7tO6P7e"
      },
      "source": [
        "Функция потерь в нейронной сети принимает два аргумента:\n",
        "* вектор значений, который мы считаем априорно верным;\n",
        "* вектор значений конечных выходов модели, который должен соответствовать априорно верному.\n",
        "\n",
        "Важно заметить, что для успешного обучения модели методом градиентного спуска мы должны потребовать от функции потерь дифференцируемости и ограниченности снизу.\n",
        "\n",
        "[Документация по функциям потерь в PyTorch](https://pytorch.org/docs/stable/nn.html#loss-functions)"
      ]
    },
    {
      "cell_type": "markdown",
      "metadata": {
        "id": "MWO5B_cw6P7e"
      },
      "source": [
        "###  Mean Squared Error"
      ]
    },
    {
      "cell_type": "markdown",
      "metadata": {
        "id": "UFejzSEr6P7e"
      },
      "source": [
        "Mean Squared Error (MSE) — это средняя квадратическая ошибка. Данная функция потерь очень популярная, поскольку она проста для понимания и реализации, и в целом работает довольно хорошо. Применяется преимущественно **при решении задач регрессии**, когда модель предсказывает вещественное число. Чтобы рассчитать MSE, нужно взять разницу между предсказаниями вашей модели и эталонными значениями, возвести в квадрат и затем усреднить по всему набору данных (в случае обучения по мини-батчам — по размеру батча).\n",
        "Результат всегда положительный, независимо от знака предсказанных и истинных значений, и идеальное значение равно 0.0"
      ]
    },
    {
      "cell_type": "markdown",
      "metadata": {
        "id": "s-3uJMGq6P7e"
      },
      "source": [
        "Для $i$-го объекта выборки, если выходной вектор состоит из $C$ компонент, средняя квадратическая ошибка между выходом модели $\\hat{y}$ и целевым вектором $y$ будет равна\n",
        "\n",
        "$$MSE_i(\\hat{y},y)=\\frac{1}{C} \\sum_{k=1}^{C}{(\\hat{y}_{ik}-y_{ik})^2}$$\n",
        "\n",
        "При вычислении по всему набору данных (или по мини-батчу) из $N$ объектов ошибка на отдельных объектах усредняется:\n",
        "\n",
        "$$MSE=\\frac{1}{N}\\sum_{i=1}^{N}MSE_i$$\n"
      ]
    },
    {
      "cell_type": "markdown",
      "metadata": {
        "id": "Sl90LnbA6P7f"
      },
      "source": [
        "[MSE Loss в PyTorch](https://pytorch.org/docs/stable/generated/torch.nn.MSELoss.html#torch.nn.MSELoss):\n",
        "```python\n",
        "torch.nn.MSELoss()\n",
        "```"
      ]
    },
    {
      "cell_type": "code",
      "execution_count": null,
      "metadata": {
        "colab": {
          "base_uri": "https://localhost:8080/"
        },
        "id": "VoIC6m7g6P7f",
        "outputId": "68bd3da9-3d24-4327-8a37-01d140ae42e2"
      },
      "outputs": [
        {
          "output_type": "stream",
          "name": "stdout",
          "text": [
            "model_output: tensor([ 0.5000, -0.2500,  0.7500])\n",
            "target: tensor([1.0000, 0.2500, 0.2500])\n",
            "loss_mse: 0.25\n"
          ]
        }
      ],
      "source": [
        "criterion = nn.MSELoss()\n",
        "\n",
        "# batch of 1 element and 3 components in output vector\n",
        "model_output = torch.Tensor([0.5, -0.25, 0.75])\n",
        "print(f\"model_output: {model_output}\")\n",
        "\n",
        "target = torch.Tensor([1, 0.25, 0.25])\n",
        "print(f\"target: {target}\")\n",
        "\n",
        "loss_mse = criterion(model_output, target)\n",
        "print(f\"loss_mse: {loss_mse}\")"
      ]
    },
    {
      "cell_type": "markdown",
      "metadata": {
        "id": "A0e_U1zY6P7f"
      },
      "source": [
        "* **Преимущество:** Использование MSE в качестве функции потерь даёт основания ожидать, что обученная с ней модель не имеет сильных \"выбросов\" в величине ошибки. Любой большой выброс в невязке $|\\hat {Y_i} - Y_i| \\ggg 0 $ при вычислении MSE был бы возведён в квадрат и дал бы вовсе огромный вклад в итоговое значение функции потерь.\n",
        "\n",
        "\n",
        "* **Недостаток:** Как логично следует из описанного выше преимущества  MSE, данная функция потерь в первую очередь сильно штрафует модель за наличие выбросов в предсказаниях.  Для ряда практически важных задач, тем не менее, важнее оказывается наиболее высокая точность работы на абсолютном большинстве входных примеров, нежели отсутствие одиночных выбросов."
      ]
    },
    {
      "cell_type": "markdown",
      "metadata": {
        "id": "pFbq05Q36P7f"
      },
      "source": [
        "###  Mean Absolute Error"
      ]
    },
    {
      "cell_type": "markdown",
      "metadata": {
        "id": "Rz0qZ_MU6P7f"
      },
      "source": [
        "Средняя абсолютная ошибка (MAE) — это величина, которая измеряет среднюю по всем образцам величину невязки $|\\hat{Y_i} - Y_i|$. Также может применяться **при решении задач регрессии**. Несмотря на то, что определение этой функции потерь похоже на MSE (MSE Loss можно назвать $L_2$ ошибкой, а MAE в этом смысле можно назвать $L_1$ ошибкой), средняя абсолютная ошибка имеет существенно другие свойства."
      ]
    },
    {
      "cell_type": "markdown",
      "metadata": {
        "id": "YTd3xbuA6P7f"
      },
      "source": [
        "Для $i$-го объекта выборки, если выходной вектор состоит из $C$ компонент, средняя абсолютная ошибка между выходом модели $\\hat{y}$ и целевым вектором $y$ будет равна\n",
        "\n",
        "$$MAE_i(\\hat{y},y)=\\frac{1}{C} \\sum_{k=1}^{C}{\\left| \\hat{y}_{ik}-y_{ik}\\right|}$$\n",
        "\n",
        "При вычислении по всему набору данных (или по мини-батчу) из $N$ объектов ошибка на отдельных объектах усредняется:\n",
        "\n",
        "$$MAE=\\frac{1}{N}\\sum_{i=1}^{N}MAE_i$$\n"
      ]
    },
    {
      "cell_type": "markdown",
      "metadata": {
        "id": "MWef1Ky96P7g"
      },
      "source": [
        "[MAE Loss в PyTorch](https://pytorch.org/docs/stable/generated/torch.nn.L1Loss.html#torch.nn.L1Loss):\n",
        "```python\n",
        "torch.nn.L1Loss()\n",
        "```"
      ]
    },
    {
      "cell_type": "code",
      "execution_count": null,
      "metadata": {
        "colab": {
          "base_uri": "https://localhost:8080/"
        },
        "id": "Eo-XI4Sc6P7g",
        "outputId": "91750a0b-9ade-43b6-cf94-3dc970b21024"
      },
      "outputs": [
        {
          "output_type": "stream",
          "name": "stdout",
          "text": [
            "model_output: tensor([ 0.5000, -0.2500,  0.7500])\n",
            "target: tensor([1.0000, 0.2500, 0.2500])\n",
            "loss_mae: 0.5\n"
          ]
        }
      ],
      "source": [
        "criterion = nn.L1Loss()\n",
        "\n",
        "# batch of 1 element and 3 components in output vector\n",
        "model_output = torch.Tensor([0.5, -0.25, 0.75])\n",
        "print(f\"model_output: {model_output}\")\n",
        "\n",
        "target = torch.Tensor([1, 0.25, 0.25])\n",
        "print(f\"target: {target}\")\n",
        "\n",
        "loss_mae = criterion(model_output, target)\n",
        "print(f\"loss_mae: {loss_mae}\")"
      ]
    },
    {
      "cell_type": "markdown",
      "metadata": {
        "id": "ULud93T86P7g"
      },
      "source": [
        "* **Преимущество:** Поскольку при вычислении MAE вычисляется абсолютное значение ошибки, данная метрика не придаёт такого большого значения \"выбросам\", как MSE — все ошибки учитываются равнозначно в единой линейной шкале.\n",
        "\n",
        "\n",
        "* **Недостаток:**  Недостаток применения MAE в качестве функции потерь при обучении модели напрямую вытекает из преимуществ. Обученная с MAE модель может показывать хорошие (или даже отличные) результаты в большинстве случаев, но на отдельных примерах может допускать большую ошибку. Если специфика решаемой задачи не позволяет нам пренебречь такими одиночными большими выбросами, то следует воздержаться от применения данной функции потерь."
      ]
    },
    {
      "cell_type": "markdown",
      "metadata": {
        "id": "DTJzU9T86P7g"
      },
      "source": [
        "###  Cross-Entropy"
      ]
    },
    {
      "cell_type": "markdown",
      "metadata": {
        "id": "aKlGCn436P7g"
      },
      "source": [
        "Кросс-энтропия — классическая функция потерь **при решении задач классификации**. Возникновение такой формы измерения различия между целевой переменной и предсказанием модели в задаче классификации мы уже рассматривали на лекции про линейные классификаторы. Напомним здесь формулу, по которой она рассчитывается."
      ]
    },
    {
      "cell_type": "markdown",
      "metadata": {
        "id": "f79nf7zg6P7g"
      },
      "source": [
        "Для $i$-го объекта выборки, если выходной вектор состоит из $C$ компонент (**логитов** для $C$ классов), кросс-энтропия между выходом модели $\\hat{y}$ и целевым вектором $y$ будет равна\n",
        "\n",
        "$$CE_i(\\hat{y},y)= - \\sum_{k=1}^{C}{y_{ik}\\cdot\\text{log}\\left(\\frac{\\exp(\\hat{y}_{ik})}{\\sum_{j=1}^{C}\\exp(\\hat{y}_{ij})}\\right)}$$\n",
        "\n",
        "При вычислении по всему набору данных (или по мини-батчу) из $N$ объектов ошибка на отдельных объектах усредняется:\n",
        "\n",
        "$$CE=\\frac{1}{N}\\sum_{i=1}^{N}CE_i$$\n"
      ]
    },
    {
      "cell_type": "markdown",
      "metadata": {
        "id": "xEbIBJN36P7h"
      },
      "source": [
        "[Cross-Entropy Loss в PyTorch](https://pytorch.org/docs/stable/generated/torch.nn.CrossEntropyLoss.html#torch.nn.CrossEntropyLoss):\n",
        "```python\n",
        "torch.nn.CrossEntropyLoss()\n",
        "```\n",
        "\n",
        "Обратите внимание, что Cross-Entropy Loss в PyTorch уже включает в себя Softmax и принимает в качестве выхода модели логиты. Поэтому при использовании данной фукции потерь ставить на последнем слое нейронной сети Softmax **не нужно**."
      ]
    },
    {
      "cell_type": "code",
      "execution_count": null,
      "metadata": {
        "colab": {
          "base_uri": "https://localhost:8080/"
        },
        "id": "HhllBXsr6P7h",
        "outputId": "a715cfdb-a371-416a-e381-8e664e45284c"
      },
      "outputs": [
        {
          "output_type": "stream",
          "name": "stdout",
          "text": [
            "model_output:\n",
            " tensor([[0.8509, 0.9979, 0.1652],\n",
            "        [0.7225, 0.2251, 0.3650],\n",
            "        [0.3164, 0.6769, 0.3530]])\n",
            "target: tensor([1, 0, 2])\n",
            "loss_ce: 0.9587342143058777\n"
          ]
        }
      ],
      "source": [
        "criterion = nn.CrossEntropyLoss()\n",
        "\n",
        "model_output = torch.rand(3, 3)\n",
        "print(f\"model_output:\\n {model_output}\")\n",
        "\n",
        "target = torch.empty(3, dtype=torch.long).random_(3)\n",
        "print(f\"target: {target}\")\n",
        "\n",
        "loss_ce = criterion(model_output, target)\n",
        "print(f\"loss_ce: {loss_ce}\")"
      ]
    },
    {
      "cell_type": "markdown",
      "metadata": {
        "id": "2X-ebOQn6P7h"
      },
      "source": [
        "$$CE_1 = - \\text{log}\\left(\\frac{\\exp{(0.7950)}}{\\exp{(0.7950)}+\\exp{(0.3205)}+\\exp{(0.4384)}}\\right)$$\n",
        "\n",
        "$$CE_2 = - \\text{log}\\left(\\frac{\\exp{(0.1743)}}{\\exp{(0.8802)}+\\exp{(0.5885)}+\\exp{(0.1743)}}\\right)$$\n",
        "\n",
        "$$CE_3 = - \\text{log}\\left(\\frac{\\exp{(0.5399)}}{\\exp{(0.3752)}+\\exp{(0.5399)}+\\exp{(0.0035)}}\\right)$$\n",
        "\n",
        "$$CE = \\frac{1}{3}(CE_1 + CE_2 + CE_3)$$"
      ]
    },
    {
      "cell_type": "code",
      "execution_count": null,
      "metadata": {
        "colab": {
          "base_uri": "https://localhost:8080/"
        },
        "id": "bQ1we5iW6P7h",
        "outputId": "459e87eb-a987-4c41-dfed-9d6ab32ea16c"
      },
      "outputs": [
        {
          "output_type": "stream",
          "name": "stdout",
          "text": [
            "hand-calculated loss_ce: 1.0814430511898192\n"
          ]
        }
      ],
      "source": [
        "import numpy as np\n",
        "\n",
        "ce_1 = -np.log(np.exp(0.7950) / (np.exp(0.7950) + np.exp(0.3205) + np.exp(0.4384)))\n",
        "ce_2 = -np.log(np.exp(0.1743) / (np.exp(0.8802) + np.exp(0.5885) + np.exp(0.1743)))\n",
        "ce_3 = -np.log(np.exp(0.5399) / (np.exp(0.3752) + np.exp(0.5399) + np.exp(0.0035)))\n",
        "\n",
        "ce = (1 / 3) * (ce_1 + ce_2 + ce_3)\n",
        "print(f\"hand-calculated loss_ce: {ce}\")"
      ]
    },
    {
      "cell_type": "markdown",
      "metadata": {
        "id": "FGJdeX2y6P7h"
      },
      "source": [
        "* **Преимущества:** Важное свойство кросс-энтропии — возможность работать с весами для классов, а значит и возможность применения этой функции потерь при работе с несбалансированным датасетом."
      ]
    },
    {
      "cell_type": "markdown",
      "metadata": {
        "id": "kFPUsW3l6P7h"
      },
      "source": [
        "### Negative Log Likelihood\n"
      ]
    },
    {
      "cell_type": "markdown",
      "metadata": {
        "id": "IESxlIVh6P7i"
      },
      "source": [
        "Еще одной функцией потерь, которая может использоваться при решении задач классификации наряду с Cross-Entropy Loss и может встречаться при работе в PyTorch, является обратный логарифм правдоподобия (Negative Log Likelihood Loss, NLLLoss).\n",
        "\n",
        "Данная функция потерь отличается от Cross-Entropy Loss тем, что в качестве выхода модели она ожидает **не логиты**, а **логарифмы вероятностей для классов**."
      ]
    },
    {
      "cell_type": "markdown",
      "metadata": {
        "id": "ubRrFgkm6P7i"
      },
      "source": [
        "Для $i$-го объекта выборки, если выходной вектор состоит из $C$ компонент (**логарифмов вероятностей** для $C$ классов), обратный логарифм правдоподобия между выходом модели $\\hat{y}$ и целевым вектором $y$ будет равен\n",
        "\n",
        "$$NLL_i(\\hat{y},y)= - \\sum_{k=1}^{C}{y_{ik}\\cdot\\hat{y}_{ik}}$$\n",
        "\n",
        "При вычислении по всему набору данных (или по мини-батчу) из $N$ объектов ошибка на отдельных объектах усредняется:\n",
        "\n",
        "$$NLL=\\frac{1}{N}\\sum_{i=1}^{N}NLL_i$$\n"
      ]
    },
    {
      "cell_type": "markdown",
      "metadata": {
        "id": "fwGiPRGB6P7i"
      },
      "source": [
        "Для того, чтобы пользоваться NLLLoss при решении задачи классификации, к логитам, которые выдает модель, необходимо дополнительно применять Softmax и брать от результата натуральный логарифм, и уже результат такого вычисления передавать в NLLLoss. В PyTorch вычисление логарифма от результата применения Softmax к логитам реализовано в модуле [`LogSoftmax`](https://pytorch.org/docs/stable/generated/torch.nn.LogSoftmax.html). Взаимоотношение между NLLLoss и CrossEntropyLoss можно выразить следующей иллюстрацией:"
      ]
    },
    {
      "cell_type": "markdown",
      "metadata": {
        "id": "t5Fqgz-c6P7i"
      },
      "source": [
        "<img src=\"https://edunet.kea.su/repo/EduNet-content/L05/out/ce_loss_vs_nll_loss.png\" width='900'>"
      ]
    },
    {
      "cell_type": "code",
      "execution_count": null,
      "metadata": {
        "colab": {
          "base_uri": "https://localhost:8080/"
        },
        "id": "AdOvt50I6P7i",
        "outputId": "2588cb1b-6a0e-4658-ed1b-d56ed4a6b9c5"
      },
      "outputs": [
        {
          "output_type": "stream",
          "name": "stdout",
          "text": [
            "model_output:\n",
            " tensor([[0.8509, 0.9979, 0.1652],\n",
            "        [0.7225, 0.2251, 0.3650],\n",
            "        [0.3164, 0.6769, 0.3530]])\n",
            "logprobs:\n",
            " tensor([[-0.9791, -0.8321, -1.6648],\n",
            "        [-0.8362, -1.3335, -1.1937],\n",
            "        [-1.2446, -0.8840, -1.2079]])\n",
            "target: tensor([1, 0, 2])\n",
            "loss_nll: 0.9587342143058777\n"
          ]
        }
      ],
      "source": [
        "criterion = nn.NLLLoss()\n",
        "logsoftmax = nn.LogSoftmax(dim=1)\n",
        "\n",
        "print(f\"model_output:\\n {model_output}\")\n",
        "\n",
        "logprobs = logsoftmax(model_output)\n",
        "print(f\"logprobs:\\n {logprobs}\")\n",
        "\n",
        "print(f\"target: {target}\")\n",
        "\n",
        "loss_nll = criterion(logprobs, target)\n",
        "print(f\"loss_nll: {loss_nll}\")"
      ]
    },
    {
      "cell_type": "markdown",
      "metadata": {
        "id": "cauH0OA_6P7i"
      },
      "source": [
        "Двойственность NLLLoss и CrossEntropyLoss может немного путать. Она возникла из-за того, что NLLLoss была исторически раньше реализована в библиотеке. Было принято на выходе модели ставить LogSoftmax, и использовать NLLLoss. Позднее была реализована функция CrossEntropyLoss, которая включала в себя одновременно LogSoftmax и NLLLoss и позволяла не добавлять в модель лишний модуль. За счет такого упрощения использование CrossEntropyLoss быстро стало более популярно. Реализацию NLLLoss, по всей видимости, оставили в библиотеке скорее для обратной совместимости."
      ]
    },
    {
      "cell_type": "markdown",
      "metadata": {
        "id": "GKcZ4pKM6P7j"
      },
      "source": [
        "Еще одним важным вытекающим отличием в использовании NLLLoss и CrossEntropyLoss является следующее. После обучения модели мы хотим пользоваться ей по назначению — для классификации. Иногда нам хочется, чтобы мы могли смотреть на выходы модели как на вероятности отнесения объектов к различным классам.\n",
        "\n",
        "* При использовании связки LogSoftmax + NLLLoss на выходе модели имеем логарифмы от вероятностей, и для получения самих вероятностей мы должны взять экспоненту от выхода модели.\n",
        "\n",
        "* При использовании CrossEntropyLoss на выходе модели имеем логиты, и для получения вероятностей мы должны применить Softmax-преобразование."
      ]
    },
    {
      "cell_type": "markdown",
      "metadata": {
        "id": "JtKMbEW76P7j"
      },
      "source": [
        "[Объяснение Negative Log Likelihood Loss](https://ljvmiranda921.github.io/notebook/2017/08/13/softmax-and-the-negative-log-likelihood/)\n",
        "\n",
        "[Блог-пост о соотношении Cross-Entropy Loss и Negative Log Likelihood Loss](https://jamesmccaffrey.wordpress.com/2020/06/11/pytorch-crossentropyloss-vs-nllloss-cross-entropy-loss-vs-negative-log-likelihood-loss/)"
      ]
    },
    {
      "cell_type": "markdown",
      "metadata": {
        "id": "noiCsh2D6P7j"
      },
      "source": [
        "###  Binary Cross-Entropy"
      ]
    },
    {
      "cell_type": "markdown",
      "metadata": {
        "id": "aB6Uvkf96P7j"
      },
      "source": [
        "В частном случае, когда количество классов равно двум (**задача бинарной классификации**), их можно закодировать одним числом: $0$ — для первого класса, и $1$ — для второго, то сумму $\\sum_{k=1}^{C}$ в формуле Cross-Entropy Loss можно расписать в явном виде."
      ]
    },
    {
      "cell_type": "markdown",
      "metadata": {
        "id": "xY93F8q56P7k"
      },
      "source": [
        "Для $i$-го объекта выборки, когда выход модели является скаляром (**вероятностью** отнесения объекта к классу $1$), бинарная кросс-энтропия между выходом модели $\\hat{y}$  и целевым значением $y$ будет равна\n",
        "\n",
        "$$BCE_i(\\hat{y},y)= - [{y_i\\cdot\\text{log}(\\hat{y}_{i})+(1-y_i)\\cdot\\text{log}(1-\\hat{y}_{i})}]$$\n",
        "\n",
        "При вычислении по всему набору данных (или по мини-батчу) из $N$ объектов ошибка на отдельных объектах усредняется:\n",
        "\n",
        "$$BCE=\\frac{1}{N}\\sum_{i=1}^{N}BCE_i$$"
      ]
    },
    {
      "cell_type": "markdown",
      "metadata": {
        "id": "2F4XzlZm6P7k"
      },
      "source": [
        "[Binary Cross-Entropy Loss в PyTorch](https://pytorch.org/docs/stable/generated/torch.nn.BCELoss.html#torch.nn.BCELoss):\n",
        "\n",
        "```python\n",
        "torch.nn.BCELoss()\n",
        "```\n",
        "\n"
      ]
    },
    {
      "cell_type": "markdown",
      "metadata": {
        "id": "PWVL3oTC6P7k"
      },
      "source": [
        "Важной особенностью BCELoss является то, что она ждёт одно число выхода сети и одно число как верный результат. Тут используется не one-hot кодировка для двух классов, а **одно число: 0 — первый класс, 1 — второй класс.** При этом значения целевой переменной должны быть представлены как вещественные (float) числа."
      ]
    },
    {
      "cell_type": "code",
      "execution_count": null,
      "metadata": {
        "colab": {
          "base_uri": "https://localhost:8080/"
        },
        "id": "UE1L5FUf6P7l",
        "outputId": "339ad50d-0490-4f1f-fd3e-a201bab9e5d5"
      },
      "outputs": [
        {
          "output_type": "stream",
          "name": "stdout",
          "text": [
            "model_output: tensor([0.9506])\n",
            "target: tensor([0.])\n",
            "loss_bce: 3.008212089538574\n"
          ]
        }
      ],
      "source": [
        "criterion = nn.BCELoss()\n",
        "\n",
        "model_output = torch.rand(1)\n",
        "print(f\"model_output: {model_output}\")\n",
        "\n",
        "target = torch.empty(1).random_(2)\n",
        "print(f\"target: {target}\")\n",
        "\n",
        "loss_bce = criterion(model_output, target)\n",
        "print(f\"loss_bce: {loss_bce}\")"
      ]
    },
    {
      "cell_type": "markdown",
      "metadata": {
        "id": "FqFcTPMM6P7l"
      },
      "source": [
        "Если классы \"абсолютно полностью\" не совпали, то возникает ситуация взятия логарифма от 0, а он не определён и стремится к бесконечности, поэтому берётся \"обрезанная бесконечность\" равная 100.\n",
        "\n",
        "Далее, если сэмплов несколько, то по умолчанию берётся среднее по семплам. См. аргумент `reduction`."
      ]
    },
    {
      "cell_type": "code",
      "execution_count": null,
      "metadata": {
        "colab": {
          "base_uri": "https://localhost:8080/"
        },
        "id": "WIQm7wRi6P7m",
        "outputId": "a8363f78-97da-4f56-935d-3e2a8141355a"
      },
      "outputs": [
        {
          "output_type": "stream",
          "name": "stdout",
          "text": [
            "model_output: tensor([1., 1., 1., 1., 1.])\n",
            "target: tensor([0., 0., 0., 0., 0.])\n",
            "loss_bce: 100.0\n"
          ]
        }
      ],
      "source": [
        "criterion = nn.BCELoss()\n",
        "\n",
        "model_output = torch.ones((5))\n",
        "print(f\"model_output: {model_output}\")\n",
        "\n",
        "target = torch.zeros(5)\n",
        "print(f\"target: {target}\")\n",
        "\n",
        "loss_bce = criterion(model_output, target)\n",
        "print(f\"loss_bce: {loss_bce}\")"
      ]
    },
    {
      "cell_type": "markdown",
      "metadata": {
        "id": "BNwTTqy46P7m"
      },
      "source": [
        "### Binary Cross-Entropy With Logits"
      ]
    },
    {
      "cell_type": "markdown",
      "metadata": {
        "id": "XMC2DMUj6P7m"
      },
      "source": [
        "Для того, чтобы выход модели при бинарной классификации представлял собой **вероятность отнесения объекта к классу $1$**, на выходе модели мы должны использовать логистическую функцию (sigmoid), которая переведет взвешенную сумму входов (логит) в значение от $0$ до $1$, которое и можно будет интерпретировать как вероятность и передать в BCELoss.\n",
        "\n",
        "По аналогии с NLLLoss и CrossEntropyLoss, у BCELoss есть своя \"пара\": BCEWithLogitsLoss. Эта функция потерь совмещает в себе две операции:\n",
        "\n",
        "* применение логистической функции Sigmoid\n",
        "* расчет BCELoss\n",
        "\n",
        "Как можно понять из названия, BCEWithLogitsLoss на вход ожидает логиты. Взаимоотношение между BCELoss и BCEWithLogitsLoss можно отобразить такой иллюстрацией:"
      ]
    },
    {
      "cell_type": "markdown",
      "metadata": {
        "id": "-i0HnhFl6P7n"
      },
      "source": [
        "<img src=\"https://edunet.kea.su/repo/EduNet-content/L05/out/bce_loss_vs_bce_with_logits_loss.png\" width='900'>"
      ]
    },
    {
      "cell_type": "markdown",
      "metadata": {
        "id": "IC9eIapC6P7n"
      },
      "source": [
        "### Итоги"
      ]
    },
    {
      "cell_type": "markdown",
      "metadata": {
        "id": "8hv-1vNN6P7n"
      },
      "source": [
        "Кросс-энтропия предпочтительнее для задач *классификации*, так как от модели требуется предсказание *вероятности класса* при известной априорной вероятности. Средняя квадратическая и средняя абсолютная ошибки предпочтительны для задач *регрессии*, когда от модели требуется предсказание произвольных вещественных чисел.\n",
        "\n",
        "И то, и другое можно рассматривать как оценки максимального правдоподобия, просто с различными предположениями о зависимой переменной.\n",
        "\n",
        "Здесь были рассмотрены лишь наиболее общие и часто применяющиеся функции потерь для основополагающих задач машинного обучения: классификации и регрессии. Однако на практике могут возникать случаи, когда от исследователя или разработчика нейронной сети требуется сконструировать свою собственную функцию потерь под свою собственную задачу. В PyTorch, помимо рассмотренных, есть реализация и других функций потерь для других задач. Также свою \"кастомную\" функцию потерь можно написать самостоятельно.\n",
        "\n",
        "[Обзор функций потерь в PyTorch с примером написания своей собственной функции (custom loss function)](https://neptune.ai/blog/pytorch-loss-functions)."
      ]
    },
    {
      "cell_type": "markdown",
      "metadata": {
        "id": "e1pxCS1q6P7n"
      },
      "source": [
        "##  Функции активации"
      ]
    },
    {
      "cell_type": "markdown",
      "metadata": {
        "id": "B4DXhSAx6P7n"
      },
      "source": [
        "Минимальным функциональным элементом нейронной сети является одиночный нейрон. В нейроне осуществляются две операции:\n",
        "1. Вычисляется взвешенная и смещенная сумма его входов\n",
        "$$ s=\\sum_{i=1}^n w_i \\cdot x_i+b=WX+b,$$\n",
        "где $W$ — вектор весов, $X$ — вектор входных значений, $b$ — величина смещения.\n",
        "\n",
        "2. К получившейся величине применяется некоторая нелинейная функция, называемая функцией активации\n",
        "$$ y = f(s)$$\n",
        "\n",
        "\n",
        "Взвешенная и смещенная сумма входов $s$ может принимать произвольное значение на вещественной прямой: $s \\in \\mathbb{R}$. Данное значение  передается в функцию активации, которая, как правило, обладает другим множеством возможных значений."
      ]
    },
    {
      "cell_type": "markdown",
      "metadata": {
        "id": "jiWshJZX6P7o"
      },
      "source": [
        "<img src =\"https://edunet.kea.su/repo/EduNet-content/L05/out/neurons_output.png\" width=\"900\">"
      ]
    },
    {
      "cell_type": "markdown",
      "metadata": {
        "id": "_YldF1da6P7o"
      },
      "source": [
        "Идея применения функций активации в структуре искусственных нейронных сетей обусловлена биологической аналогией. Известно, что в биологических нейронных сетях имеется аналог нелинейной функции активации: существует пороговый потенциал, только после достижения которого происходит возбуждение (активация) нейрона и, как следствие, распространение сигнала далее по нейронной сети.\n",
        "\n",
        "Именно таким простейшим образом ведёт себя пороговая функция активации, которая использовалась при построении первых искусственных нейронных сетей — перцептронов:\n",
        "\n",
        "$f(x) =\n",
        "\\begin{cases}\n",
        "0, &\\text{$x<b$} \\\\\n",
        "1, &\\text{$x\\geq b$}\n",
        "\\end{cases}\n",
        "$"
      ]
    },
    {
      "cell_type": "markdown",
      "metadata": {
        "id": "PvKGNzWK6P7o"
      },
      "source": [
        "<img src =\"https://edunet.kea.su/repo/EduNet-content/L05/out/threshold_function_plot.png\" width=\"300\">"
      ]
    },
    {
      "cell_type": "markdown",
      "metadata": {
        "id": "UK-11oAe6P7p"
      },
      "source": [
        "Построенная с пороговой функцией активации нейронная сеть обладает ключевым недостатком, не позволяющим фактически использовать данную функцию активации на практике. В силу того, что производная функции активации тривиальна почти всюду на числовой прямой:\n",
        "\n",
        "$f'(x) =\n",
        "\\begin{cases}\n",
        "0, &\\text{$x\\neq b$} \\\\\n",
        "?, &\\text{$x= b$}\n",
        "\\end{cases}\n",
        "$\n",
        "\n",
        "не представляется возможным использовать метод градиентного спуска для оптимизации параметров нейронной сети."
      ]
    },
    {
      "cell_type": "markdown",
      "metadata": {
        "id": "8fEa9HJB6P7p"
      },
      "source": [
        "###  Свойства функций активации"
      ]
    },
    {
      "cell_type": "markdown",
      "metadata": {
        "id": "pSzlISkf6P7p"
      },
      "source": [
        "Функции активации должны обладать следующими свойствами:\n",
        "\n",
        "* **Нелинейность:** функция активации необходима для введения нелинейности в нейронные сети. Если функция активации не применяется, выходной сигнал становится простой линейной функцией. Нейронная сеть без нелинейностей будет действовать как линейная модель с ограниченной способностью к обучению:\n",
        "$$\\hat{y}=NN(X,W_1,...,W_n)=X\\cdot W_1\\cdot ...\\cdot W_n=X\\cdot W$$\n",
        "Только нелинейные функции активации позволяют нейронным сетям решать задачи аппроксимации нелинейных функций:\n",
        "$$\\hat{y}=NN(X,W_1,...,W_n)=\\sigma(...\\sigma(X\\cdot W_1)...\\cdot W_n)\\neq X\\cdot W$$\n",
        "\n",
        "* **Дифференцируемость:** функции активации должны быть способными пропускать градиент, чтобы было возможно оптимизировать параметры сети градиентными методами, в частности использовать алгоритм обратного распространения ошибки."
      ]
    },
    {
      "cell_type": "markdown",
      "metadata": {
        "id": "Mrzfyu5t6P7q"
      },
      "source": [
        "###  Различные функции активации"
      ]
    },
    {
      "cell_type": "markdown",
      "metadata": {
        "id": "kyKT2eDN6P7q"
      },
      "source": [
        "Рассмотрим наиболее популярные функции активации и обсудим их преимущества и недостатки."
      ]
    },
    {
      "cell_type": "markdown",
      "metadata": {
        "id": "Y3OKRJ4R6P7q"
      },
      "source": [
        "<center><img src =\"https://edunet.kea.su/repo/EduNet-web_dependencies/L05/popular_activation_functions.png\" width=\"700\"></center>\n",
        "\n",
        "<center><em>Source: <a href=\"https://arxiv.org/pdf/1911.05187.pdf\">AI in Pursuit of Happiness, Finding Only Sadness: Multi-Modal Facial Emotion Recognition Challenge</a></em></center>"
      ]
    },
    {
      "cell_type": "markdown",
      "metadata": {
        "id": "RviutDcF6P7r"
      },
      "source": [
        "####  **Логистическая функция**"
      ]
    },
    {
      "cell_type": "markdown",
      "metadata": {
        "id": "2dJp9evK6P7r"
      },
      "source": [
        "Логистическая (сигмоидальная) функция — используется в задачах бинарной классификации, в основном после выхода последнего нейрона. Позволяет определить вероятность принадлежности к одному из двух классов (0 или 1)."
      ]
    },
    {
      "cell_type": "markdown",
      "metadata": {
        "id": "i2xBCM7I6P7r"
      },
      "source": [
        "$$\\sigma(x)=\\frac{1}{1+e^{-x}}$$"
      ]
    },
    {
      "cell_type": "markdown",
      "metadata": {
        "id": "PB0RoutR6P7s"
      },
      "source": [
        "<img src =\"https://edunet.kea.su/repo/EduNet-content/L05/out/activation_function_sigmoid.png\" width=\"1000\">"
      ]
    },
    {
      "cell_type": "markdown",
      "metadata": {
        "id": "FnJSHUkF6P7s"
      },
      "source": [
        "Примечательным свойством логистической функции является то, что ее производная выражается через саму функцию. Это значит, что зная значение функции в точке, вычислить значение производной в этой точке очень легко:\n",
        "\n",
        "$$ \\frac{d}{dx}\\sigma(x) = \\frac{d}{dx}(1+e^{-x})^{-1} = \\frac{e^{-x}}{(1+e^{-x})^{2}} = \\frac{1}{1+e^{-x}} \\cdot \\frac{1+e^{-x}-1}{1+e^{-x}} = \\sigma(x)\\cdot(1-\\sigma(x))$$"
      ]
    },
    {
      "cell_type": "markdown",
      "metadata": {
        "id": "79Qyc-j-6P7s"
      },
      "source": [
        "В отличие от пороговой функции активации, где у нейрона было всего два состояния: \"активирован\" или \"не активирован\", с логистической функцией для нейрона возможны значения \"активирован на 50%\", \"активирован на 20%\" и так далее. Если активированы несколько нейронов, можно найти нейрон с наибольшим значением активации.\n",
        "\n",
        "Так как существуют промежуточные значения на выходе нейрона, **процесс обучения проходит более гладко и быстро**, а вероятность появления нескольких полностью активированных нейронов во время тренировки снижается по сравнению с пороговой функцией активации (хотя это зависит от того, что вы обучаете и на каких данных)."
      ]
    },
    {
      "cell_type": "markdown",
      "metadata": {
        "id": "7O4epYsv6P7t"
      },
      "source": [
        "[Сигмоидальная функция активации в PyTorch](https://pytorch.org/docs/stable/generated/torch.nn.Sigmoid.html):\n",
        "```python\n",
        "torch.nn.Sigmoid()\n",
        "```"
      ]
    },
    {
      "cell_type": "code",
      "execution_count": null,
      "metadata": {
        "colab": {
          "base_uri": "https://localhost:8080/"
        },
        "id": "vqaxzP5N6P7t",
        "outputId": "98720396-b09a-42e0-e64b-80521eeb4d8f"
      },
      "outputs": [
        {
          "output_type": "stream",
          "name": "stdout",
          "text": [
            "input_values: tensor([  3.2233,   7.9277,  -0.3715,  -7.1913, -12.9547])\n",
            "activation_sig: tensor([9.6170e-01, 9.9964e-01, 4.0817e-01, 7.5251e-04, 2.3650e-06])\n"
          ]
        }
      ],
      "source": [
        "activation = nn.Sigmoid()\n",
        "input_values = torch.randn(5) * 5\n",
        "activation_sig = activation(input_values)\n",
        "print(f\"input_values: {input_values}\\nactivation_sig: {activation_sig}\")"
      ]
    },
    {
      "cell_type": "markdown",
      "metadata": {
        "id": "Jaz34BVL6P7t"
      },
      "source": [
        "Сигмоида выглядит гладкой и подобна пороговой функции.\n",
        "\n",
        "**Достоинства:**\n",
        "\n",
        "Во-первых, сигмоида нелинейна по своей природе, а комбинация таких функций производит тоже нелинейную функцию. Поэтому мы можем конструировать многослойные сети.\n",
        "\n",
        "Еще одно достоинство такой функции — она гладкая, следовательно, улучшается гладкость градиента, в отличие от ступенчатой функции."
      ]
    },
    {
      "cell_type": "markdown",
      "metadata": {
        "id": "0HcAElqR6P7u"
      },
      "source": [
        "**Недостатки:**\n",
        "\n",
        "Насыщение сигмоиды приводит к затуханию градиентов. Крайне нежелательное свойство сигмоиды заключается в том, что при насыщении функции с той или иной стороны (0 или 1) градиент на этих участках становится близок к нулю. Напомним, что в процессе обратного распространения ошибки данный (локальный) градиент умножается на общий градиент. Следовательно, если локальный градиент очень мал, он фактически обнуляет общий градиент. В результате сигнал почти не будет проходить через нейрон к его весам. Кроме того, следует быть очень осторожным при инициализации весов сигмоидных нейронов, чтобы предотвратить насыщение. Например, если исходные веса имеют слишком большие значения, большинство нейронов перейдет в состояние насыщения, в результате чего сеть будет плохо обучаться."
      ]
    },
    {
      "cell_type": "markdown",
      "metadata": {
        "id": "Ym8hRTjt6P7u"
      },
      "source": [
        "Выход сигмоиды не центрирован относительно нуля. Это свойство является нежелательным, поскольку нейроны в последующих слоях будут получать значения, которые не центрированы относительно нуля, что оказывает влияние на динамику градиентного спуска. Если значения, поступающие в нейрон, всегда положительны (например, $x > 0$ поэлементно в $f = wx + b$), то в процессе обратного распространения ошибки все градиенты весов $w$ будут либо положительны, либо отрицательны (в зависимости от градиента всего выражения $f$). Это может привести к нежелательной зигзагообразной динамике обновлений весов. Однако следует отметить, что, когда эти градиенты суммируются по батчу, итоговое обновление весов может иметь различные знаки, что отчасти нивелирует описанный недостаток. Таким образом, отсутствие центрирования является неудобством, но имеет менее серьезные последствия по сравнению с проблемой насыщения."
      ]
    },
    {
      "cell_type": "markdown",
      "metadata": {
        "id": "HB1xNFwd6P7u"
      },
      "source": [
        "####  **Гиперболический тангенс**"
      ]
    },
    {
      "cell_type": "markdown",
      "metadata": {
        "id": "VcOAwLy46P7v"
      },
      "source": [
        "Гиперболический тангенс схож с логистической функцией. Он определяется следующей формулой:"
      ]
    },
    {
      "cell_type": "markdown",
      "metadata": {
        "id": "PgXwOKTs6P7v"
      },
      "source": [
        "$$tanh(x)=\\frac{e^x - e^{-x}}{e^x+e^{-x}}$$"
      ]
    },
    {
      "cell_type": "markdown",
      "metadata": {
        "id": "n5EL3GVh6P7v"
      },
      "source": [
        "Также гиперболический тангенс может быть выражен через логистическую функцию:\n",
        "\n",
        "$$tanh(x) = 2\\cdot\\sigma(2x)-1$$"
      ]
    },
    {
      "cell_type": "markdown",
      "metadata": {
        "id": "Zy7qHZz36P7v"
      },
      "source": [
        "<img src =\"https://edunet.kea.su/repo/EduNet-content/L05/out/activation_function_tanh.png\" width=\"1000\">"
      ]
    },
    {
      "cell_type": "markdown",
      "metadata": {
        "id": "c6XKm-KW6P7v"
      },
      "source": [
        "Производная гиперболического тангенса также [выражается через саму функцию](https://socratic.org/questions/what-is-the-derivative-of-tanh-x):\n",
        "\n",
        "$$ \\frac{d}{dx}tanh(x)=1-tanh^2(x)$$\n"
      ]
    },
    {
      "cell_type": "markdown",
      "metadata": {
        "id": "qZo85tPK6P7v"
      },
      "source": [
        "Гиперболический тангенс симметричен относительно нуля и может принимать как положительные, так и отрицательные значения. Данное свойство гиперболического тангенса оказывается важным, в частности, при построении рекуррентных нейронных сетей. При использовании в рекуррентных сетях, получаемые на выходе $\\tanh (x)$ положительные или отрицательные значения могут не только увеличивать величину скрытого состояния в ячейках памяти, но и уменьшать их. Подробнее с устройством рекуррентных нейронных сетей мы познакомимся в последующих лекциях нашего курса."
      ]
    },
    {
      "cell_type": "markdown",
      "metadata": {
        "id": "SVpQe0N26P7v"
      },
      "source": [
        "**Достоинства**: В силу схожего определения, гиперболический тангенс обладает основными достоинствами описанной выше логистической функции. Кроме того, множество значений данной функции активации симметрично относительно нуля $[-1,1]$. Использование гиперболического тангенса в качестве функции активации хорошо подходит для последовательного соединения полносвязных слоёв нейронной сети.\n",
        "\n",
        "**Недостатки**: Производная гиперболического тангенса по виду аналогична производной логистической функции, следовательно, при использовании гиперболического тангенса в качестве функции активации мы также можем столкнуться с проблемой затухания градиентов в области насыщения функции.\n",
        "\n"
      ]
    },
    {
      "cell_type": "markdown",
      "metadata": {
        "id": "TnY2GADo6P7w"
      },
      "source": [
        "[Гиперболический тангенс в PyTorch](https://pytorch.org/docs/stable/generated/torch.nn.Tanh.html):\n",
        "```python\n",
        "torch.nn.Tanh()\n",
        "```"
      ]
    },
    {
      "cell_type": "code",
      "execution_count": null,
      "metadata": {
        "colab": {
          "base_uri": "https://localhost:8080/"
        },
        "id": "2l_feD8m6P7w",
        "outputId": "4a7128a6-799a-4fe8-b9bc-adc436900729"
      },
      "outputs": [
        {
          "output_type": "stream",
          "name": "stdout",
          "text": [
            "input_values: tensor([11.1529,  4.3029,  0.5081, -3.8456, -1.9058])\n",
            "activation_tanh: tensor([ 1.0000,  0.9996,  0.4685, -0.9991, -0.9567])\n"
          ]
        }
      ],
      "source": [
        "activation = nn.Tanh()\n",
        "input_values = torch.tensor([11.1529, 4.3029, 0.5081, -3.8456, -1.9058])\n",
        "activation_tanh = activation(input_values)\n",
        "print(f\"input_values: {input_values}\\nactivation_tanh: {activation_tanh}\")"
      ]
    },
    {
      "cell_type": "markdown",
      "metadata": {
        "id": "0zXhP4Rk6P7w"
      },
      "source": [
        "####  **ReLU**"
      ]
    },
    {
      "cell_type": "markdown",
      "metadata": {
        "id": "CGcKZoD56P7w"
      },
      "source": [
        "Часто на практике применяется функция активации ReLU. Значение данной функции равно нулю для всех отрицательных входных значений и равно входному значению, если оно неотрицательно. Название ReLU (Rectified Linear Unit), \"выпрямитель\", связана с электротехнической аналогией — график вольт-амперной характеристики идеального выпрямительного диода похож на график функции ReLU."
      ]
    },
    {
      "cell_type": "markdown",
      "metadata": {
        "id": "nfU4iSYa6P7w"
      },
      "source": [
        "$$ReLU(x)=max(0,x)$$"
      ]
    },
    {
      "cell_type": "markdown",
      "metadata": {
        "id": "yCF0WUPl6P7w"
      },
      "source": [
        "<img src =\"https://edunet.kea.su/repo/EduNet-content/L05/out/activation_function_relu.png\" width=\"1000\">"
      ]
    },
    {
      "cell_type": "markdown",
      "metadata": {
        "id": "1Npxh5id6P7x"
      },
      "source": [
        "Производная ReLU:"
      ]
    },
    {
      "cell_type": "markdown",
      "metadata": {
        "id": "rFTKT_AU6P7x"
      },
      "source": [
        "$$\\frac{d}{dx}ReLU(x) =\n",
        "\\begin{cases}\n",
        "\\frac{d}{dx}0, &\\text{$x<0$} \\\\\n",
        "\\frac{d}{dx}x, &\\text{$x\\geq0$}\n",
        "\\end{cases}=\n",
        "\\begin{cases}\n",
        "0, &\\text{$x<0$} \\\\\n",
        "1, &\\text{$x\\geq0$}\n",
        "\\end{cases}\n",
        "$$"
      ]
    },
    {
      "cell_type": "markdown",
      "metadata": {
        "id": "YZHDnd5W6P7x"
      },
      "source": [
        "[ReLU в PyTorch](https://pytorch.org/docs/stable/generated/torch.nn.ReLU.html):\n",
        "```python\n",
        "torch.nn.ReLU()\n",
        "```"
      ]
    },
    {
      "cell_type": "code",
      "execution_count": null,
      "metadata": {
        "colab": {
          "base_uri": "https://localhost:8080/"
        },
        "id": "iEtEocMb6P7x",
        "outputId": "5d685bdc-22cd-44ef-fc83-30167c8c7f95"
      },
      "outputs": [
        {
          "output_type": "stream",
          "name": "stdout",
          "text": [
            "input_values: tensor([-2.0400,  0.2595,  0.5425, -0.7905,  0.1925])\n",
            "activation_relu: tensor([0.0000, 0.2595, 0.5425, 0.0000, 0.1925])\n"
          ]
        }
      ],
      "source": [
        "activation = nn.ReLU()\n",
        "input_values = torch.randn(5)\n",
        "activation_relu = activation(input_values)\n",
        "print(f\"input_values: {input_values}\\nactivation_relu: {activation_relu}\")"
      ]
    },
    {
      "cell_type": "markdown",
      "metadata": {
        "id": "r5i_pQwQ6P7x"
      },
      "source": [
        "Рассмотрим положительные и отрицательные стороны ReLU.\n",
        "\n",
        "**Достоинства:**\n",
        "\n",
        "Функция ReLU не требует проведения вычислений в вещественной арифметике, как того требуют логистическая функция или гиперболический тангенс. Кроме того, производная функции ReLU является кусочно-постоянной функцией и также может быть вычислена крайне эффективно. Это приводит к тому, что количество необходимых вычислительных ресурсов для обучения нейронной сети с использованием ReLU оказывается значительно ниже, чем при использовании рассмотренных выше логистической функции или гиперболического тангенса. Необходимо также отметить, что использование ReLU не приводит к эффекту насыщения нейронов."
      ]
    },
    {
      "cell_type": "markdown",
      "metadata": {
        "id": "rRFnrOR16P7x"
      },
      "source": [
        "\n",
        "**Недостатки:**\n",
        "\n",
        "Иногда при использовании ReLU в качестве функции активации мы можем столкнуться с нежелательным эффектом отключения (\"умирания\") отдельных нейронов. Механизм данного явления связан с возможностью получения на выходе функции активации нулевого значения при широком диапазоне входных сигналов — любая отрицательная линейная комбинация входных значений с весами нейрона будет преобразована ReLU в ноль. Если при текущем обновлении весов нейрона изменение может оказаться слишком большим (например, при выборе слишком высокой скорости обучения), новая конфигурация весов нейрона будет при любых входных значениях приводить к отрицательной линейной комбинации и, как следствие, тождественно равной нулю активации рассматриваемого нейрона. Такой нейрон также тождественно обратит в ноль и проходящий через него локальный градиент при обучении сети методом обратного распространения ошибки, что сделает практически невозможным возвращение нейрона в \"рабочее\" состояние."
      ]
    },
    {
      "cell_type": "markdown",
      "metadata": {
        "id": "epFtzDJn6P7y"
      },
      "source": [
        "#### **Leaky ReLU**"
      ]
    },
    {
      "cell_type": "markdown",
      "metadata": {
        "id": "f5ykAUHp6P7y"
      },
      "source": [
        "Leaky ReLU (ReLU с «утечкой», название также обусловлено электротехнической аналогией) является простейшей модификацией описанной выше ReLU, призванной исправить проблему \"умирания\" отдельных нейронов. В отличие от ReLU, данная функция не равна константе $0$ при всех отрицательных входных значениях, а реализует в этой области линейную зависимость с небольшим угловым коэффициентом (например, с угловым коэффициентом $10^{-2}$)."
      ]
    },
    {
      "cell_type": "markdown",
      "metadata": {
        "id": "F4DxVOIu6P7y"
      },
      "source": [
        "$$LeakyReLU(x)=max(0.01x,x)$$"
      ]
    },
    {
      "cell_type": "markdown",
      "metadata": {
        "id": "IKnF6k6w6P7y"
      },
      "source": [
        "<img src =\"https://edunet.kea.su/repo/EduNet-content/L05/out/activation_function_leaky_relu.png\" width=\"1000\">"
      ]
    },
    {
      "cell_type": "markdown",
      "metadata": {
        "id": "2zN9ZRLu6P7y"
      },
      "source": [
        "Производная Leaky ReLU:\n",
        "\n",
        "$$\\frac{d}{dx}LeakyReLU(x)=\\frac{d}{dx}max(0.01x,x)=\\begin{cases}\n",
        "\\frac{d}{dx}0.01x, &\\text{$x<0$} \\\\\n",
        "\\frac{d}{dx}x, &\\text{$x\\geq0$}\n",
        "\\end{cases}=\n",
        "\\begin{cases}\n",
        "0.01, &\\text{$x<0$} \\\\\n",
        "1, &\\text{$x\\geq0$}\n",
        "\\end{cases}$$"
      ]
    },
    {
      "cell_type": "markdown",
      "metadata": {
        "id": "0XpOyHfE6P7z"
      },
      "source": [
        "[Leaky ReLU в PyTorch](https://pytorch.org/docs/stable/generated/torch.nn.LeakyReLU.html):\n",
        "```python\n",
        "torch.nn.LeakyReLU()\n",
        "```"
      ]
    },
    {
      "cell_type": "code",
      "execution_count": null,
      "metadata": {
        "colab": {
          "base_uri": "https://localhost:8080/"
        },
        "id": "zXPWLsug6P7z",
        "outputId": "18f710a1-6ee4-4d43-b605-56c06a515313"
      },
      "outputs": [
        {
          "output_type": "stream",
          "name": "stdout",
          "text": [
            "input_values: tensor([-0.4339,  0.5280,  0.0247, -0.3896, -0.6111])\n",
            "activation_lrelu: tensor([-0.0043,  0.5280,  0.0247, -0.0039, -0.0061])\n"
          ]
        }
      ],
      "source": [
        "activation = nn.LeakyReLU(0.01)\n",
        "input_values = torch.randn(5)\n",
        "activation_lrelu = activation(input_values)\n",
        "print(f\"input_values: {input_values}\\nactivation_lrelu: {activation_lrelu}\")"
      ]
    },
    {
      "cell_type": "markdown",
      "metadata": {
        "id": "gbh6HFqg6P7z"
      },
      "source": [
        "**Достоинства**: Сохраняет достоинства ReLU, при этом не страдает от проблемы \"умирания\".\n",
        "\n",
        "**Недостатки**: Некоторые исследователи сообщают об успешном применении данной функции активации, но результаты не всегда стабильны."
      ]
    },
    {
      "cell_type": "markdown",
      "metadata": {
        "id": "mMqBp2rl6P7z"
      },
      "source": [
        "####  **GELU (Gaussian Error Linear Unit)**"
      ]
    },
    {
      "cell_type": "markdown",
      "metadata": {
        "id": "VxoVMOXe6P7z"
      },
      "source": [
        "Функция активации, используемая в трансформерах: Google BERT и OpenAI GPT-2."
      ]
    },
    {
      "cell_type": "markdown",
      "metadata": {
        "id": "BSUUe_UG6P70"
      },
      "source": [
        "$$GELU(x)=xP(X\\leq x)=x\\Phi(x)=x\\cdot \\frac{1}{2}[1+erf(\\frac{x}{\\sqrt{2}})]$$\n",
        "\n",
        "$$erf(x)=\\frac{2}{\\sqrt{\\pi}}\\int_0^xe^{-t^2}dt$$\n"
      ]
    },
    {
      "cell_type": "markdown",
      "metadata": {
        "id": "Eg8b5XUa6P70"
      },
      "source": [
        "На практике GELU может быть приблизительно вычислена так:\n",
        "$$GELU(x)\\approx 0.5x(1+tanh[\\sqrt{2/\\pi}(x+0.044715x^3)])$$\n",
        "\n",
        "или\n",
        "\n",
        "$$GELU(x) \\approx x\\cdot \\sigma(1.702x)$$"
      ]
    },
    {
      "cell_type": "markdown",
      "metadata": {
        "id": "RcJWPp396P70"
      },
      "source": [
        "<img src =\"https://edunet.kea.su/repo/EduNet-content/L05/out/activation_function_gelu.png\" width=\"1000\">"
      ]
    },
    {
      "cell_type": "markdown",
      "metadata": {
        "id": "H3OG69206P71"
      },
      "source": [
        "**Достоинства**: State-of-the-art функция активации в задачах NLP"
      ]
    },
    {
      "cell_type": "code",
      "execution_count": null,
      "metadata": {
        "colab": {
          "base_uri": "https://localhost:8080/"
        },
        "id": "jo5GTT-86P71",
        "outputId": "be2cf1d3-a9e2-4f94-df35-524d50423543"
      },
      "outputs": [
        {
          "output_type": "stream",
          "name": "stdout",
          "text": [
            "input_values: tensor([ 7.6207,  4.4801,  4.4960, -6.8737, -6.4228])\n",
            "activation_gelu: tensor([7.6207, 4.4801, 4.4960, 0.0000, 0.0000])\n"
          ]
        }
      ],
      "source": [
        "activation = nn.GELU()\n",
        "input_values = torch.randn(5) * 5\n",
        "activation_gelu = activation(input_values)\n",
        "print(f\"input_values: {input_values}\\nactivation_gelu: {activation_gelu}\")"
      ]
    },
    {
      "cell_type": "markdown",
      "metadata": {
        "id": "zjwnRmz66P71"
      },
      "source": [
        "[GELU в PyTorch](https://pytorch.org/docs/stable/generated/torch.nn.GELU.html):\n",
        "```python\n",
        "torch.nn.GELU()\n",
        "```"
      ]
    },
    {
      "cell_type": "markdown",
      "metadata": {
        "id": "S1R_-27S6P72"
      },
      "source": [
        "### Визуализация функций активации:\n"
      ]
    },
    {
      "cell_type": "markdown",
      "metadata": {
        "id": "HmRy1Iau6P72"
      },
      "source": [
        "<img src =\"https://edunet.kea.su/repo/EduNet-content/L05/out/animated_activation_functions.png\" width=\"900\">"
      ]
    },
    {
      "cell_type": "markdown",
      "metadata": {
        "id": "ORaeK5AI6P72"
      },
      "source": [
        "[How Activation Functions Work in Deep Learning](https://www.kdnuggets.com/2022/06/activation-functions-work-deep-learning.html)"
      ]
    },
    {
      "cell_type": "markdown",
      "metadata": {
        "id": "PCGBdnfW6P72"
      },
      "source": [
        "# Углубление в PyTorch. Пример нейронной сети на MNIST"
      ]
    },
    {
      "cell_type": "markdown",
      "metadata": {
        "id": "4ZP5Buro6P73"
      },
      "source": [
        "Источник: [Learn the basics tutorial](https://pytorch.org/tutorials/beginner/basics/intro.html)"
      ]
    },
    {
      "cell_type": "markdown",
      "metadata": {
        "id": "N9kWMhr56P73"
      },
      "source": [
        "## Dataset и DataLoader"
      ]
    },
    {
      "cell_type": "markdown",
      "metadata": {
        "id": "qI_rlY546P73"
      },
      "source": [
        "<img src=\"https://edunet.kea.su/repo/EduNet-content/L05/out/dataset_dataloader.png\" width=\"1000\">"
      ]
    },
    {
      "cell_type": "markdown",
      "metadata": {
        "id": "pa8yDq2b6P74"
      },
      "source": [
        "Предварительная обработка данных часто сильно зависит от домена, предметной области, самих данных. В идеале мы бы хотели, чтобы код, относящийся к набору данных, был отделен от кода для обучения модели для его лучшей читаемости, понимаемости и модульности.\n",
        "\n",
        "PyTorch предоставляет два базовых класса для работы с данными: `torch.utils.data.DataLoader` и `torch.utils.data.Dataset`, которые позволяют работать как со встроенными наборами данных, так и с вашими собственными данными.\n",
        "\n",
        "`Dataset` хранит в себе объекты (samples, сэмплы) — например, изображения и соответствующие им метки (labels, targets).\n",
        "\n",
        "`DataLoader` представляет из себя итерируемый объект — обертку над `Dataset`-ом, и позволяет получить простой доступ к объектам и меткам из набора данных в виде мини-батчей.\n"
      ]
    },
    {
      "cell_type": "markdown",
      "metadata": {
        "id": "DC6KWg3G6P74"
      },
      "source": [
        "Библиотеки из семейства PyTorch предоставляют ряд предзагруженных наборов данных (например, таких как MNIST), которые релизованы как дочерние классы от `torch.utils.data.Dataset` и несут в себе функции, специфичные для конкретных данных. Эти наборы данных могут быть использованы как бенчмарк для отладки и оценки вашей модели или в учебных целях. Вы можете найти их здесь: [Image Datasets](https://pytorch.org/vision/stable/datasets.html), [Text Datasets](https://pytorch.org/text/stable/datasets.html), и [Audio Datasets](https://pytorch.org/audio/stable/datasets.html)."
      ]
    },
    {
      "cell_type": "markdown",
      "metadata": {
        "id": "dNZGAaG66P75"
      },
      "source": [
        "### Загрузка набора данных"
      ]
    },
    {
      "cell_type": "markdown",
      "metadata": {
        "id": "oSG34R_66P75"
      },
      "source": [
        "Рассмотрим пример того, как загрузить набор данных MNIST, который содержится в [`torchvision.datasets`](https://pytorch.org/vision/stable/generated/torchvision.datasets.MNIST.html#torchvision.datasets.MNIST). MNIST содержит 60&nbsp;000 изображений для обучения и 10&nbsp;000 изображений для теста, размеченных на 10 классов — по числу цифр. Каждый пример представляет собой изображение размером 28×28 пикселей в оттенках серого. Каждое изображение имеет метку класса — то, какая цифра на нем изображена."
      ]
    },
    {
      "cell_type": "markdown",
      "metadata": {
        "id": "OBFiTpWK6P75"
      },
      "source": [
        "Загрузим MNIST, указав следующие параметры:\n",
        "* `root` — это путь, куда будут скачаны данные,\n",
        "* `train` определяет, скачивать обучающую или тестовую часть набора данных,\n",
        "* `download=True` позволяет скачать данные из интернета, если их нет в пути `root`,\n",
        "*  `transform` определяет преобразования, которые нужно сделать с данными. Здесь мы сразу указываем `transform=ToTensor()`, чтобы перевести входные данные (изображения) в формат `torch.Tensor`. Подробнее о трансформациях поговорим далее."
      ]
    },
    {
      "cell_type": "code",
      "execution_count": null,
      "metadata": {
        "colab": {
          "base_uri": "https://localhost:8080/"
        },
        "id": "WvFPXlcs6P76",
        "outputId": "8b2b5a45-7262-40a4-b854-34a83de9c822"
      },
      "outputs": [
        {
          "output_type": "stream",
          "name": "stdout",
          "text": [
            "Train data info:\n",
            " Dataset MNIST\n",
            "    Number of datapoints: 60000\n",
            "    Root location: ./MNIST\n",
            "    Split: Train\n",
            "    StandardTransform\n",
            "Transform: ToTensor()\n",
            "\n",
            "Test data info:\n",
            " Dataset MNIST\n",
            "    Number of datapoints: 10000\n",
            "    Root location: ./MNIST\n",
            "    Split: Test\n",
            "    StandardTransform\n",
            "Transform: ToTensor()\n"
          ]
        }
      ],
      "source": [
        "from torchvision import datasets\n",
        "from torchvision.transforms import ToTensor\n",
        "from IPython.display import clear_output\n",
        "\n",
        "train_data = datasets.MNIST(\n",
        "    root=\"./MNIST\", train=True, download=True, transform=ToTensor()\n",
        ")\n",
        "\n",
        "test_data = datasets.MNIST(\n",
        "    root=\"./MNIST\", train=False, download=True, transform=ToTensor()\n",
        ")\n",
        "\n",
        "clear_output()\n",
        "\n",
        "print(\"Train data info:\\n\", train_data)\n",
        "print(\"\\nTest data info:\\n\", test_data)"
      ]
    },
    {
      "cell_type": "markdown",
      "metadata": {
        "id": "l5_yQuV_6P76"
      },
      "source": [
        "### Итерирование по `Dataset` и визуализация данных"
      ]
    },
    {
      "cell_type": "markdown",
      "metadata": {
        "id": "G3lEKBPE6P76"
      },
      "source": [
        "Можно обращаться к элементам `Dataset`-а вручную, как в списках или массивах: `dataset[i]`. При таком обращении мы получим кортеж `(sample, label)`. Воспользуемся matplotlib, чтобы отобразить первые 10 изображений из тестового множества."
      ]
    },
    {
      "cell_type": "code",
      "execution_count": null,
      "metadata": {
        "colab": {
          "base_uri": "https://localhost:8080/",
          "height": 164
        },
        "id": "PrhHG2gZ6P76",
        "outputId": "7e9792ee-3ebd-42b8-853f-422de7d59902"
      },
      "outputs": [
        {
          "output_type": "display_data",
          "data": {
            "text/plain": [
              "<Figure size 2000x2000 with 10 Axes>"
            ],
            "image/png": "[encoded data removed]"
          },
          "metadata": {}
        }
      ],
      "source": [
        "import matplotlib.pyplot as plt\n",
        "\n",
        "num_imgs_to_visualize = 10\n",
        "\n",
        "figure = plt.figure(figsize=(20, 20))\n",
        "\n",
        "for i in range(num_imgs_to_visualize):\n",
        "    # here we indexing the Dataset-object \"as is\" and gettig a tuple (img, label)\n",
        "    img, label = test_data[i]\n",
        "\n",
        "    figure.add_subplot(1, num_imgs_to_visualize, i + 1)\n",
        "    plt.imshow(img.squeeze(), cmap=\"gray\")\n",
        "    plt.title(label)\n",
        "    plt.axis(\"off\")\n",
        "plt.show()"
      ]
    },
    {
      "cell_type": "markdown",
      "metadata": {
        "id": "BRPoZFep6P77"
      },
      "source": [
        "### Подготовка данных для обучения с помощью DataLoader"
      ]
    },
    {
      "cell_type": "markdown",
      "metadata": {
        "id": "P-co3Xq56P77"
      },
      "source": [
        "`Dataset` возвращает по одной паре \"объект — метка\" за раз. При обучении моделей мы обычно хотим получать обекты в виде мини-батчей, перемешивая данные на каждой эпохе для уменьшения переобучения.\n",
        "\n",
        "`DataLoader` — это объект, который позволяет нам получать такие мини-батчи. При инициализации он принимает в себя объект `Dataset`, а также параметры `batch_size` (размер мини-батча) и `shuffle` (перемешивать ли данные в батчах каждую эпоху).\n",
        "\n",
        "Другие параметры, а также значения по умолчанию можно посмотреть в документации PyTorch для класса [`DataLoader`](https://pytorch.org/docs/stable/data.html#torch.utils.data.DataLoader).\n"
      ]
    },
    {
      "cell_type": "code",
      "execution_count": null,
      "metadata": {
        "id": "DpWpEzqC6P77"
      },
      "outputs": [],
      "source": [
        "from torch.utils.data import DataLoader\n",
        "\n",
        "train_dataloader = DataLoader(train_data, batch_size=8, shuffle=True)\n",
        "test_dataloader = DataLoader(test_data, batch_size=8, shuffle=False)"
      ]
    },
    {
      "cell_type": "markdown",
      "metadata": {
        "id": "aSXRqk0J6P78"
      },
      "source": [
        "Так как мы имели два объекта класса `Dataset`: `train_data` и `test_data`, то мы создаем также и два независимых `DataLoader`-а. Один из них позволит нам получать батчи из обучающей выборки, а другой — из тестовой.\n",
        "\n",
        "Обратите внимание на параметр `shuffle`! По умолчанию он имеет значение `False`. **Для обучения нейронной сети критически важно, чтобы во время обучения батчи обучающих данных перемешивались**. Именно таким образом мы вносим **стохастичность** в процесс градиентного спуска. Поэтому для `DataLoader`-a, который будет выдавать батчи для обучения, необходимо использовать `shuffle=True`.\n",
        "\n",
        "В противоположность этому — `DataLoader` для тестовых данных. Тестовые данные служат для оценки качества работы модели, на них не происходит обучение и градиентный спуск. Поэтому установка здесь `shuffle=True` не имеет большого смысла."
      ]
    },
    {
      "cell_type": "markdown",
      "metadata": {
        "id": "i6CPykqJ6P78"
      },
      "source": [
        "### Итерирование по `DataLoader`"
      ]
    },
    {
      "cell_type": "markdown",
      "metadata": {
        "id": "U08YEp_Q6P78"
      },
      "source": [
        "Мы загрузили набор данных в `DataLoader`, и теперь можем проходиться по нему по мере необходимости. Каждая итерация в коде ниже будет возвращать мини-батч в виде кортежа тензоров `(samples, labels)`, содержащих `batch_size=8` объектов и меток соответственно.\n",
        "Так как мы установили для `train_dataloader` параметр `shuffle=True`, когда мы пройдемся по всем батчам, данные перемешаются."
      ]
    },
    {
      "cell_type": "code",
      "execution_count": null,
      "metadata": {
        "colab": {
          "base_uri": "https://localhost:8080/",
          "height": 364
        },
        "id": "JvxrhvQQ6P79",
        "outputId": "021239be-62c9-4b76-900f-429f6899ad16"
      },
      "outputs": [
        {
          "output_type": "stream",
          "name": "stdout",
          "text": [
            "Images batch shape: torch.Size([8, 1, 28, 28]) : [batch_size, num_channels, H, W]\n",
            "Labels batch shape: torch.Size([8])\n",
            "\n",
            "The first sample in the batch:\n"
          ]
        },
        {
          "output_type": "display_data",
          "data": {
            "text/plain": [
              "<Figure size 300x300 with 1 Axes>"
            ],
            "image/png": "[encoded data removed]"
          },
          "metadata": {}
        }
      ],
      "source": [
        "# get one next batch\n",
        "imgs, labels = next(iter(train_dataloader))\n",
        "\n",
        "print(f\"Images batch shape: {imgs.size()} : [batch_size, num_channels, H, W]\")\n",
        "print(f\"Labels batch shape: {labels.size()}\")\n",
        "\n",
        "print(\"\\nThe first sample in the batch:\")\n",
        "img = imgs[0].squeeze()\n",
        "label = labels[0].item()\n",
        "\n",
        "plt.figure(figsize=(3, 3))\n",
        "plt.imshow(img, cmap=\"gray\")\n",
        "plt.title(label)\n",
        "plt.axis(\"off\")\n",
        "plt.show()"
      ]
    },
    {
      "cell_type": "markdown",
      "metadata": {
        "id": "-JydFrrn6P79"
      },
      "source": [
        "## Трансформации (Transforms)"
      ]
    },
    {
      "cell_type": "markdown",
      "metadata": {
        "id": "uhTGKVyW6P79"
      },
      "source": [
        "Данные не всегда поступают в том формате, который требуется для работы моделей машинного обучения. Для того, чтобы производить некоторые преобразования с данными и делать их пригодными для обучения, в PyTorch реализован механизм трансформаций (transforms).\n",
        "\n",
        "Все наборы данных в Torchvision имеют два параметра: `transform` — для применения трансформаций к входным данным, и `target_transform` — соответственно для преобразования меток.\n",
        "Эти параметры принимают в себя вызываемые (callable) объекты, содержащие логику преобразований. Модуль [`torchvision.transforms`](https://pytorch.org/vision/stable/transforms.html) предоставляет ряд часто используемых трансформаций \"из коробки\".\n",
        "\n",
        "Важно понимать, что трансформации, указанные в `transform` и `target_transform`, **применяются к данным налету**, то есть в момент обращения к этим данным через `Dataset` или `DataLoader`."
      ]
    },
    {
      "cell_type": "markdown",
      "metadata": {
        "id": "1r--ZQ-W6P7-"
      },
      "source": [
        "### ToTensor"
      ]
    },
    {
      "cell_type": "markdown",
      "metadata": {
        "id": "JouCwQxd6P7-"
      },
      "source": [
        "Изображения в MNIST (и в большинстве других встроенных датасетов) изначально хранятся в формате PIL Image (Python Image Library), а метки представлены как целые числа. Если с метками, представленными таким образом, ничего делать не нужно, то входные данные для обучения необходимо перевести в тензоры. Чтобы произвести эту трансформацию, выше при загрузке данных MNIST мы использовали [`torchvision.transforms.ToTensor`](https://pytorch.org/vision/stable/generated/torchvision.transforms.ToTensor.html#torchvision.transforms.ToTensor).\n",
        "\n",
        "`ToTensor` преобразует PIL Image или NumPy `ndarray` в `FloatTensor` **и масштабирует значения интенсивности пикселей к диапазону $[0., 1.]$**."
      ]
    },
    {
      "cell_type": "markdown",
      "metadata": {
        "id": "qy04aUXT6P7-"
      },
      "source": [
        "### Normalize"
      ]
    },
    {
      "cell_type": "markdown",
      "metadata": {
        "id": "kUVXKKM06P7-"
      },
      "source": [
        "Предположим, что помимо перевода данных в подходящий формат мы бы хотели произвести какие-то преобразования с самими величинами. Скажем, произвести нормализацию: вычесть математическое ожидание и разделить на стандартное отклонение по выборке. Для проведения такой операции в `torchvision.transforms` предусмотрена трансформация [`Normalize`](https://pytorch.org/vision/main/generated/torchvision.transforms.Normalize.html)."
      ]
    },
    {
      "cell_type": "markdown",
      "metadata": {
        "id": "Vi3pewAp6P7_"
      },
      "source": [
        "Два обязательных параметра в этой трансформации — это `mean` и `std`:\n",
        "* `mean` — последовательность математических ожиданий по каждому каналу выборки изображений,\n",
        "* `std` — последовательность стандартных отклонений по каждому каналу выборки изображений.\n",
        "\n",
        "`Normalize` не применяется к PIL Image, поэтому ее необходимо применять после `ToTensor`.\n",
        "\n",
        "Давайте вычислим среднее и стандартное отклонение для обучающей выборки MNIST. Для этого обратимся к `train_data.data`:"
      ]
    },
    {
      "cell_type": "code",
      "execution_count": null,
      "metadata": {
        "colab": {
          "base_uri": "https://localhost:8080/"
        },
        "id": "SdytOJRQ6P7_",
        "outputId": "484d174b-b95b-48f2-f4bf-fd7f4f3adf7b"
      },
      "outputs": [
        {
          "output_type": "stream",
          "name": "stdout",
          "text": [
            "train_data.data:\n",
            "Type:  <class 'torch.Tensor'>\n",
            "Size:  torch.Size([60000, 28, 28])\n",
            "Dtype: torch.uint8\n",
            "Max:   255\n",
            "Min:   0\n"
          ]
        }
      ],
      "source": [
        "import torch\n",
        "\n",
        "print(\"train_data.data:\")\n",
        "print(\"Type: \", type(train_data.data))\n",
        "print(\"Size: \", train_data.data.size())\n",
        "print(\"Dtype:\", train_data.data.dtype)\n",
        "print(\"Max:  \", torch.max(train_data.data).item())\n",
        "print(\"Min:  \", torch.min(train_data.data).item())"
      ]
    },
    {
      "cell_type": "markdown",
      "metadata": {
        "id": "Yp-aL8Id6P8A"
      },
      "source": [
        "`train_data.data` — тензор целых чисел (`uint8`) c минимальным значением 0 и максимальным значением 255. Функции `torch.mean()` и `torch.std()` выдадут ошибку, если передать им тензор целых чисел. Поэтому изменим тип на вещественный, применив метод `.double()`."
      ]
    },
    {
      "cell_type": "code",
      "execution_count": null,
      "metadata": {
        "colab": {
          "base_uri": "https://localhost:8080/"
        },
        "id": "FRth-WSs6P8A",
        "outputId": "1ee4a1fc-9bf4-4024-9e04-744bb10c06a3"
      },
      "outputs": [
        {
          "output_type": "stream",
          "name": "stdout",
          "text": [
            "mean = 33.32, std = 78.57\n"
          ]
        }
      ],
      "source": [
        "mean = torch.mean(train_data.data.double()).item()\n",
        "std = torch.std(train_data.data.double()).item()\n",
        "print(f\"mean = {mean:.2f}, std = {std:.2f}\")"
      ]
    },
    {
      "cell_type": "markdown",
      "metadata": {
        "id": "TecwTXDm6P8A"
      },
      "source": [
        "Вспомним, что `Normalize` должна применяться после `ToTensor`, которая масштабирует величины в диапазон $[0., 1.]$. Значит, матожидание и стандартное отклонение мы также должны разделить на максимальное значение до масштабирования — на 255."
      ]
    },
    {
      "cell_type": "code",
      "execution_count": null,
      "metadata": {
        "colab": {
          "base_uri": "https://localhost:8080/"
        },
        "id": "YeGWb3m16P8A",
        "outputId": "e1a85740-6013-4c0c-deee-6f240a782618"
      },
      "outputs": [
        {
          "output_type": "stream",
          "name": "stdout",
          "text": [
            "Scaled mean = 0.13, std = 0.31\n"
          ]
        }
      ],
      "source": [
        "mean /= 255\n",
        "std /= 255\n",
        "print(f\"Scaled mean = {mean:.2f}, std = {std:.2f}\")"
      ]
    },
    {
      "cell_type": "markdown",
      "metadata": {
        "id": "cVH9qBuD6P8B"
      },
      "source": [
        "### Compose"
      ]
    },
    {
      "cell_type": "markdown",
      "metadata": {
        "id": "Im2fvixx6P8B"
      },
      "source": [
        "Мы вычислили среднее и стандартное отклонение по обучающей выборке MNIST для применения транcформации `Normalize`. Но мы также помним, что она должна применяться только после `ToTensor`. Как же объединить несколько трансформаций в одну, чтобы они применились последовательно?\n",
        "\n",
        "Для этого предусмотрен класс [`torchvision.transforms.Compose`](https://pytorch.org/vision/main/generated/torchvision.transforms.Compose.html). Его единственный параметр — список принимаемых трансформаций. `Compose` — это контейнер для трансформаций, при помещении в который они будут применяться поочерёдно. В общем случае их может быть сколько угодно. Давайте напишем трансформацию, которая примет в себя две: `ToTensor` и `Normalize`."
      ]
    },
    {
      "cell_type": "code",
      "execution_count": null,
      "metadata": {
        "colab": {
          "base_uri": "https://localhost:8080/"
        },
        "id": "k99SdzWZ6P8B",
        "outputId": "c12e8acd-2847-440a-bce6-6361fb47a07c"
      },
      "outputs": [
        {
          "output_type": "stream",
          "name": "stdout",
          "text": [
            "Compose(\n",
            "    ToTensor()\n",
            "    Normalize(mean=0.1306604762738429, std=0.30810780717887876)\n",
            ")\n"
          ]
        }
      ],
      "source": [
        "from torchvision import transforms\n",
        "\n",
        "transform_with_normalize = transforms.Compose(\n",
        "    [transforms.ToTensor(), transforms.Normalize(mean, std)]\n",
        ")\n",
        "\n",
        "print(transform_with_normalize)"
      ]
    },
    {
      "cell_type": "markdown",
      "metadata": {
        "id": "SgDX1Dco6P8C"
      },
      "source": [
        "Остается только подменить у обучающего и тестового датасетов ту трансформацию, которую мы указали при загрузке данных, на нашу новую — с нормализацией. Для этого посмотрим на атрибут `.transform` и изменим его."
      ]
    },
    {
      "cell_type": "code",
      "execution_count": null,
      "metadata": {
        "colab": {
          "base_uri": "https://localhost:8080/"
        },
        "id": "5UMu9K4-6P8C",
        "outputId": "1d6399b0-b990-404e-bb2c-872c8aecac8e"
      },
      "outputs": [
        {
          "output_type": "stream",
          "name": "stdout",
          "text": [
            "Old train transform: ToTensor()\n",
            "Old test transform: ToTensor()\n",
            "\n",
            "New train transform: Compose(\n",
            "    ToTensor()\n",
            "    Normalize(mean=0.1306604762738429, std=0.30810780717887876)\n",
            ")\n",
            "New test transform: Compose(\n",
            "    ToTensor()\n",
            "    Normalize(mean=0.1306604762738429, std=0.30810780717887876)\n",
            ")\n"
          ]
        }
      ],
      "source": [
        "print(\"Old train transform:\", train_data.transform)\n",
        "print(\"Old test transform:\", test_data.transform)\n",
        "\n",
        "train_data.transform = transform_with_normalize\n",
        "test_data.transform = transform_with_normalize\n",
        "\n",
        "print(\"\\nNew train transform:\", train_data.transform)\n",
        "print(\"New test transform:\", test_data.transform)"
      ]
    },
    {
      "cell_type": "markdown",
      "metadata": {
        "id": "aKietRo46P8C"
      },
      "source": [
        "Следует еще раз заметить, что при нормализации мы **вычисляем** оценки математического ожидания и стандартного отклонения `mean` и `std` **на обучающих данных**, а **применяем** вычисленные оценки **и на обучающих, и на тестовых данных**."
      ]
    },
    {
      "cell_type": "markdown",
      "metadata": {
        "id": "ePMaj3U16P8C"
      },
      "source": [
        "Теперь при обращении к данным через `DataLoader` будет происходить следующее:\n",
        "\n",
        "1. Объект `DataLoader` обращается к объекту `Dataset` за данными, чтобы сформировать батч.\n",
        "2. `Dataset` считывает данные, которые хранятся на диске, в формате PIL Image, применяет к ним трансформации, указанные в его атрибуте `.transform` (в данном случае это последовательность `ToTensor` и `Normalize`), и возвращает `DataLoader`-у преобразованные данные.\n",
        "3. `DataLoader` формирует из полученных данных батч и возвращает его."
      ]
    },
    {
      "cell_type": "markdown",
      "metadata": {
        "id": "dV4B9-B26P8D"
      },
      "source": [
        "Обратите внимание, что на диске по-прежнему лежат просто изображения в своем специальном формате, и их довольно много. Но при этом в каждый момент времени мы не храним на диске все изображения как тензоры в сыром виде или в нормализованном. Нужные операции применяются к данным налету, только когда они нужны — при формировании батчей."
      ]
    },
    {
      "cell_type": "markdown",
      "metadata": {
        "id": "SwPdHNri6P8D"
      },
      "source": [
        "## Создание нейронной сети"
      ]
    },
    {
      "cell_type": "markdown",
      "metadata": {
        "id": "d1dgh2LV6P8D"
      },
      "source": [
        "Нейронные сети состоят из слоев, которые производят преобразования над данными. В PyTorch принято называть слои ***модулями*** (modules), и далее мы тоже будем использовать это название.\n",
        "\n",
        "Пространство имен [`torch.nn`](https://pytorch.org/docs/stable/nn.html) предоставляет \"строительные блоки\", которые нужны для создания своей собственной нейронной сети. Каждый *модуль* в PyTorch является дочерним классом от [`nn.Module`](https://pytorch.org/docs/stable/generated/torch.nn.Module.html). Таким образом, нейронная сеть сама по себе будет являться *модулем*, состоящим из других *модулей* (слоев). Такая вложенная структура позволяет легко создавать сложные архитектуры и управлять ими.\n",
        "\n",
        "Ниже мы рассмотрим пример создания нейронной сети для классификации изображений из набора данных MNIST."
      ]
    },
    {
      "cell_type": "markdown",
      "metadata": {
        "id": "7pywfPTt6P8D"
      },
      "source": [
        "### Выбор устройства (device) для обучения"
      ]
    },
    {
      "cell_type": "markdown",
      "metadata": {
        "id": "gGl10u4m6P8D"
      },
      "source": [
        "Мы бы хотели иметь возможность обучать модель на аппаратном ускорителе, таком как GPU, если он доступен. Проверим, доступен ли нам ускоритель [`torch.cuda`](https://pytorch.org/docs/stable/notes/cuda.html), иначе продолжим вычисления на CPU."
      ]
    },
    {
      "cell_type": "code",
      "execution_count": null,
      "metadata": {
        "colab": {
          "base_uri": "https://localhost:8080/"
        },
        "id": "dGeSMIeY6P8E",
        "outputId": "664fe97c-c623-437a-ebc7-9c3ab2d41123"
      },
      "outputs": [
        {
          "output_type": "stream",
          "name": "stdout",
          "text": [
            "Using cpu device\n"
          ]
        }
      ],
      "source": [
        "device = \"cuda\" if torch.cuda.is_available() else \"cpu\"\n",
        "print(f\"Using {device} device\")"
      ]
    },
    {
      "cell_type": "markdown",
      "metadata": {
        "id": "0OdmYU2w6P8E"
      },
      "source": [
        "### Описание класса модели"
      ]
    },
    {
      "cell_type": "markdown",
      "metadata": {
        "id": "ESC9DIFT6P8E"
      },
      "source": [
        "Мы определяем нейронную сеть, наследуясь от класса `nn.Module`, и инициализируем ее слои в методе `__init__`. Каждый класс-наследник `nn.Module` производит операции над входными данными в методе `forward`.\n",
        "\n",
        "Напишем собственную нейронную сеть как класс `NeuralNetwork`. Ниже подробно рассмотрим все составляющие ее части."
      ]
    },
    {
      "cell_type": "code",
      "execution_count": null,
      "metadata": {
        "id": "yUWdPpQx6P8E"
      },
      "outputs": [],
      "source": [
        "from torch import nn\n",
        "\n",
        "\n",
        "class NeuralNetwork(nn.Module):\n",
        "    def __init__(self):\n",
        "        super().__init__()\n",
        "        self.flatten = nn.Flatten()\n",
        "        self.layers_stack = nn.Sequential(\n",
        "            nn.Linear(28 * 28, 512),\n",
        "            nn.ReLU(),\n",
        "            nn.Linear(512, 128),\n",
        "            nn.ReLU(),\n",
        "            nn.Linear(128, 10),\n",
        "        )\n",
        "\n",
        "    def forward(self, x):\n",
        "        x = self.flatten(x)\n",
        "        logits = self.layers_stack(x)\n",
        "        return logits"
      ]
    },
    {
      "cell_type": "markdown",
      "metadata": {
        "id": "omWhhdQH6P8E"
      },
      "source": [
        "Создадим экземпляр класса `NeuralNetwork`, переместим его на `device` с помощью метода `to` и выведем информацию о структуре модели."
      ]
    },
    {
      "cell_type": "code",
      "execution_count": null,
      "metadata": {
        "colab": {
          "base_uri": "https://localhost:8080/"
        },
        "id": "ZAcmf3k56P8F",
        "outputId": "4d274f31-5907-49fb-a917-6e2bd19803d7"
      },
      "outputs": [
        {
          "output_type": "stream",
          "name": "stdout",
          "text": [
            "NeuralNetwork(\n",
            "  (flatten): Flatten(start_dim=1, end_dim=-1)\n",
            "  (layers_stack): Sequential(\n",
            "    (0): Linear(in_features=784, out_features=512, bias=True)\n",
            "    (1): ReLU()\n",
            "    (2): Linear(in_features=512, out_features=128, bias=True)\n",
            "    (3): ReLU()\n",
            "    (4): Linear(in_features=128, out_features=10, bias=True)\n",
            "  )\n",
            ")\n"
          ]
        }
      ],
      "source": [
        "model = NeuralNetwork().to(device)\n",
        "print(model)"
      ]
    },
    {
      "cell_type": "markdown",
      "metadata": {
        "id": "oiNBxjLi6P8F"
      },
      "source": [
        "Чтобы использовать модель, мы передаем ей входные данные. Это приводит в действие метод `forward`, а также определенные фоновые операции. Не следует вызывать `model.forward` напрямую!\n",
        "\n",
        "Вызов модели с входными данными возвращает тензор с двумя размерностями: нулевая размерность `dim=0` соответствует  количеству переданных примеров, а первая `dim=1` — десяти выходным \"сырым\" предсказаниям (логитам) для каждого класса.\n",
        "\n",
        "Мы можем получить предсказание модели в виде вероятностей, пропустив логиты через экземпляр модуля `nn.Softmax`, вызвав его вычисление вдоль первой размерности `dim=1`."
      ]
    },
    {
      "cell_type": "code",
      "execution_count": null,
      "metadata": {
        "colab": {
          "base_uri": "https://localhost:8080/"
        },
        "id": "7KWzGr6m6P8F",
        "outputId": "7966a2d8-bd2f-4d3a-98f3-dcc4835fa2c4"
      },
      "outputs": [
        {
          "output_type": "stream",
          "name": "stdout",
          "text": [
            "Input size:       torch.Size([3, 1, 28, 28]) : [batch_size, num_channels, H, W]\n",
            "Output size:      torch.Size([3, 10])        : [batch_size, num_classes]\n",
            "Predicted class:  tensor([2, 2, 5])          : [class for sample 1, class for sample 2, class for sample 3]\n"
          ]
        }
      ],
      "source": [
        "# random input of 3 images\n",
        "sample_batch = torch.rand(\n",
        "    3, 1, 28, 28, device=device\n",
        ")  # [batch_size, num_channels, H, W]\n",
        "\n",
        "# model output\n",
        "logits = model(sample_batch)\n",
        "\n",
        "# predicted probabilities\n",
        "pred_probab = nn.Softmax(dim=1)(logits)\n",
        "\n",
        "# predicted classes\n",
        "y_pred = pred_probab.argmax(dim=1)\n",
        "\n",
        "print(f\"Input size:       {sample_batch.size()} : [batch_size, num_channels, H, W]\")\n",
        "print(f\"Output size:      {logits.size()}        : [batch_size, num_classes]\")\n",
        "print(\n",
        "    f\"Predicted class:  {y_pred}          : [class for sample 1, class for sample 2, class for sample 3]\"\n",
        ")"
      ]
    },
    {
      "cell_type": "markdown",
      "metadata": {
        "id": "GzuqoSfB6P8F"
      },
      "source": [
        "### Слои модели"
      ]
    },
    {
      "cell_type": "markdown",
      "metadata": {
        "id": "2P2FMYwl6P8G"
      },
      "source": [
        "Давайте заглянем \"под капот\" нашей модели `NeuralNetwork`. Для иллюстрации возьмем мини-батч из трех одноканальных изображений 28×28 и посмотрим, что с ним происходит, когда мы пропускаем его через сеть."
      ]
    },
    {
      "cell_type": "code",
      "execution_count": null,
      "metadata": {
        "colab": {
          "base_uri": "https://localhost:8080/"
        },
        "id": "Y-VSYT286P8G",
        "outputId": "5a985afb-8435-448f-fd08-3aa5b5aaf9bf"
      },
      "outputs": [
        {
          "output_type": "stream",
          "name": "stdout",
          "text": [
            "Input size: torch.Size([3, 1, 28, 28])\n"
          ]
        }
      ],
      "source": [
        "sample_batch = torch.rand(3, 1, 28, 28)\n",
        "print(f\"Input size: {sample_batch.size()}\")"
      ]
    },
    {
      "cell_type": "markdown",
      "metadata": {
        "id": "q7V9PQmg6P8G"
      },
      "source": [
        "#### Слой `nn.Flatten`"
      ]
    },
    {
      "cell_type": "markdown",
      "metadata": {
        "id": "CXIEeHkc6P8G"
      },
      "source": [
        "Мы используем слой [`nn.Flatten`](https://pytorch.org/docs/stable/generated/torch.nn.Flatten.html) для преобразования каждого изображения 1×28×28 пикселей в непрерывный массив из 784 значений (размер батча (на позиции `dim=0`) сохраняется)."
      ]
    },
    {
      "cell_type": "code",
      "execution_count": null,
      "metadata": {
        "colab": {
          "base_uri": "https://localhost:8080/"
        },
        "id": "VXA76bGX6P8G",
        "outputId": "54995470-5c96-49a1-89e2-77ba8aa0d6d9"
      },
      "outputs": [
        {
          "output_type": "stream",
          "name": "stdout",
          "text": [
            "Size after Flatten: torch.Size([3, 784])\n"
          ]
        }
      ],
      "source": [
        "flatten = nn.Flatten()\n",
        "flat_image = flatten(sample_batch)\n",
        "print(f\"Size after Flatten: {flat_image.size()}\")"
      ]
    },
    {
      "cell_type": "markdown",
      "metadata": {
        "id": "pW4fsrom6P8H"
      },
      "source": [
        "#### Слой `nn.Linear`"
      ]
    },
    {
      "cell_type": "markdown",
      "metadata": {
        "id": "JO0a9BtC6P8H"
      },
      "source": [
        "Линейный слой [`nn.Linear`](https://pytorch.org/docs/stable/generated/torch.nn.Linear.html) — это модуль, который производит линейное преобразование входных данных с помощью хранящихся в нем весов и смещений.\n",
        "\n",
        "Обязательными параметрами при объявлении этого слоя являются `in_features` — количество входных признаков, и `out_features` — количество выходных признаков.\n",
        "\n",
        "Фактически, этот модуль добавляет в модель один полносвязный слой нейронов *без активаций*. Слой состоит из `out_features` нейронов, каждый из которых имеет `in_features` входов.\n",
        "\n",
        "В примере ниже мы объявляем слой из 512 нейронов, каждый из которых получает \"вытянутое\" изображение из 784 пикселей."
      ]
    },
    {
      "cell_type": "code",
      "execution_count": null,
      "metadata": {
        "colab": {
          "base_uri": "https://localhost:8080/"
        },
        "id": "USRPI4qE6P8H",
        "outputId": "fbbde4df-1827-4921-dae8-a281a6f93133"
      },
      "outputs": [
        {
          "output_type": "stream",
          "name": "stdout",
          "text": [
            "Size after Linear:  torch.Size([3, 512])\n"
          ]
        }
      ],
      "source": [
        "layer1 = nn.Linear(in_features=784, out_features=512)\n",
        "hidden1 = layer1(flat_image)\n",
        "print(f\"Size after Linear:  {hidden1.size()}\")"
      ]
    },
    {
      "cell_type": "markdown",
      "metadata": {
        "id": "7NJwEJIa6P8H"
      },
      "source": [
        "Линейный слой, в отличие от слоя `nn.Flatten`, имеет обучаемые параметры — веса и смещения. Они хранятся как объекты специального класса `torch.nn.parameter.Parameter` и содержат в себе тензоры собственно с величинами параметров. Получить доступ к ним можно, обратившись к атрибутам слоя `.weight` и `.bias` соответственно."
      ]
    },
    {
      "cell_type": "code",
      "execution_count": null,
      "metadata": {
        "colab": {
          "base_uri": "https://localhost:8080/"
        },
        "id": "ARjzS6J96P8H",
        "outputId": "c6fff32b-f974-47d8-b610-379be631c930"
      },
      "outputs": [
        {
          "output_type": "stream",
          "name": "stdout",
          "text": [
            "Size of linear layer weights: torch.Size([512, 784])\n",
            "Type of linear layer weights: <class 'torch.nn.parameter.Parameter'>\n",
            "\n",
            "Size of linear layer biases: torch.Size([512])\n",
            "Type of linear layer biases: <class 'torch.nn.parameter.Parameter'>\n"
          ]
        }
      ],
      "source": [
        "print(f\"Size of linear layer weights: {layer1.weight.size()}\")\n",
        "print(f\"Type of linear layer weights: {type(layer1.weight)}\")\n",
        "\n",
        "print(f\"\\nSize of linear layer biases: {layer1.bias.size()}\")\n",
        "print(f\"Type of linear layer biases: {type(layer1.bias)}\")"
      ]
    },
    {
      "cell_type": "markdown",
      "metadata": {
        "id": "e8cPhXxJ6P8I"
      },
      "source": [
        "#### Слой `nn.ReLU`"
      ]
    },
    {
      "cell_type": "markdown",
      "metadata": {
        "id": "TLeHKet96P8I"
      },
      "source": [
        "Нелинейные активации — это то, что позволяет модели учить сложные взаимосвязи между входом и выходом. Они применяются после линейных преобразований, чтобы ввести *нелинейность*, помогая нейронным сетям изучать самые разные закономерности.\n",
        "\n",
        "В данной модели мы используем [`nn.ReLU`](https://pytorch.org/docs/stable/generated/torch.nn.ReLU.html) между линейными слоями, но существуют и реализации [других функций активации](https://pytorch.org/docs/stable/nn.html#non-linear-activations-weighted-sum-nonlinearity)."
      ]
    },
    {
      "cell_type": "code",
      "execution_count": null,
      "metadata": {
        "colab": {
          "base_uri": "https://localhost:8080/"
        },
        "id": "-pBGyYN26P8I",
        "outputId": "0da0e565-7c5d-4476-ebfe-a27ffad58a1c"
      },
      "outputs": [
        {
          "output_type": "stream",
          "name": "stdout",
          "text": [
            "Before ReLU:  tensor([[-0.0389, -0.2498, -0.1761,  ..., -0.4166,  0.1928, -0.2897],\n",
            "        [-0.2039, -0.3503, -0.0725,  ..., -0.0672,  0.2318, -0.0865],\n",
            "        [-0.0788, -0.8065, -0.2117,  ..., -0.2523,  0.2248, -0.4064]],\n",
            "       grad_fn=<AddmmBackward0>)\n",
            "After ReLU:  tensor([[0.0000, 0.0000, 0.0000,  ..., 0.0000, 0.1928, 0.0000],\n",
            "        [0.0000, 0.0000, 0.0000,  ..., 0.0000, 0.2318, 0.0000],\n",
            "        [0.0000, 0.0000, 0.0000,  ..., 0.0000, 0.2248, 0.0000]],\n",
            "       grad_fn=<ReluBackward0>)\n",
            "\n",
            " Size after ReLU:  torch.Size([3, 512])\n"
          ]
        }
      ],
      "source": [
        "activations1 = nn.ReLU()(hidden1)\n",
        "\n",
        "print(f\"Before ReLU:  {hidden1}\")\n",
        "print(f\"After ReLU:  {activations1}\")\n",
        "print(f\"\\n Size after ReLU:  {activations1.size()}\")"
      ]
    },
    {
      "cell_type": "markdown",
      "metadata": {
        "id": "qurJOGS76P8I"
      },
      "source": [
        "#### Объединение модулей в `nn.Sequential`"
      ]
    },
    {
      "cell_type": "markdown",
      "metadata": {
        "id": "LO1qtxOS6P8J"
      },
      "source": [
        "[`nn.Sequential`](https://pytorch.org/docs/stable/generated/torch.nn.Sequential.html) — это упорядоченный контейнер для модулей. Данные проходят через все модули в том же порядке, в котором они определены в `nn.Sequential`. Можно использовать такой контейнер для того, чтобы быстро собрать простую нейронную сеть, как `seq_modules` в примере ниже."
      ]
    },
    {
      "cell_type": "code",
      "execution_count": null,
      "metadata": {
        "colab": {
          "base_uri": "https://localhost:8080/"
        },
        "id": "A0cbfTgu6P8J",
        "outputId": "c5d55938-1ad4-4c64-9d4a-519114ced56f"
      },
      "outputs": [
        {
          "output_type": "stream",
          "name": "stdout",
          "text": [
            "Output size: torch.Size([3, 10])\n"
          ]
        }
      ],
      "source": [
        "seq_modules = nn.Sequential(flatten, layer1, nn.ReLU(), nn.Linear(512, 10))\n",
        "\n",
        "sample_batch = torch.rand(3, 1, 28, 28)\n",
        "logits = seq_modules(sample_batch)\n",
        "\n",
        "print(f\"Output size: {logits.size()}\")"
      ]
    },
    {
      "cell_type": "markdown",
      "metadata": {
        "id": "CIqZG-q26P8J"
      },
      "source": [
        "#### Слой `nn.Softmax`"
      ]
    },
    {
      "cell_type": "markdown",
      "metadata": {
        "id": "T5FNjPdA6P8J"
      },
      "source": [
        "Последний линейный слой нейронной сети возвращает *логиты* — \"сырые\" значения из диапазона $[-∞; +∞]$, которые могут быть пропущены через модуль [`nn.Softmax`](https://pytorch.org/docs/stable/generated/torch.nn.Softmax.html). Пропущенные через $\\text{sofmax}$ величины могут восприниматься как вероятности, с которыми модель относит данный объект к тому или иному классу. Параметр `dim` определяет размерность, вдоль которой величины должны суммироваться к $1$."
      ]
    },
    {
      "cell_type": "code",
      "execution_count": null,
      "metadata": {
        "colab": {
          "base_uri": "https://localhost:8080/"
        },
        "id": "Cc_sw0dJ6P8K",
        "outputId": "89a5e7af-02c9-434a-df2b-a52565b244d1"
      },
      "outputs": [
        {
          "output_type": "stream",
          "name": "stdout",
          "text": [
            "Size after Softmax: torch.Size([3, 10])\n"
          ]
        }
      ],
      "source": [
        "softmax = nn.Softmax(dim=1)\n",
        "\n",
        "pred_probab = softmax(logits)\n",
        "\n",
        "print(f\"Size after Softmax: {pred_probab.size()}\")"
      ]
    },
    {
      "cell_type": "markdown",
      "metadata": {
        "id": "D_Xv5GaT6P8K"
      },
      "source": [
        "### Параметры модели"
      ]
    },
    {
      "cell_type": "markdown",
      "metadata": {
        "id": "BAx5ZhNq6P8K"
      },
      "source": [
        "Множество слоев в нейронных сетях имеют *обучаемые параметры*, т. е. имеют ассоциированные с ними веса и смещения, которые оптимизируются во время обучения.\n",
        "\n",
        "Наследование от `nn.Module` автоматически отслеживает все слои, определенные внутри вашего класса модели, и делает все их параметры доступными с помощью методов `model.parameters()` или `model.named_parameters()`.\n",
        "\n",
        "В примере ниже мы проходимся по всем параметрам модели, и для каждого тензора параметров выводим его размер."
      ]
    },
    {
      "cell_type": "code",
      "execution_count": null,
      "metadata": {
        "colab": {
          "base_uri": "https://localhost:8080/"
        },
        "id": "P8kyxnDS6P8L",
        "outputId": "844c4d3d-f253-41d9-85a5-edf6525c7ad5"
      },
      "outputs": [
        {
          "output_type": "stream",
          "name": "stdout",
          "text": [
            "Model structure: NeuralNetwork(\n",
            "  (flatten): Flatten(start_dim=1, end_dim=-1)\n",
            "  (layers_stack): Sequential(\n",
            "    (0): Linear(in_features=784, out_features=512, bias=True)\n",
            "    (1): ReLU()\n",
            "    (2): Linear(in_features=512, out_features=128, bias=True)\n",
            "    (3): ReLU()\n",
            "    (4): Linear(in_features=128, out_features=10, bias=True)\n",
            "  )\n",
            ")\n",
            "\n",
            "Layer: layers_stack.0.weight      Size: torch.Size([512, 784])\n",
            "Layer: layers_stack.0.bias        Size: torch.Size([512])\n",
            "Layer: layers_stack.2.weight      Size: torch.Size([128, 512])\n",
            "Layer: layers_stack.2.bias        Size: torch.Size([128])\n",
            "Layer: layers_stack.4.weight      Size: torch.Size([10, 128])\n",
            "Layer: layers_stack.4.bias        Size: torch.Size([10])\n"
          ]
        }
      ],
      "source": [
        "print(f\"Model structure: {model}\\n\")\n",
        "\n",
        "for name, param in model.named_parameters():\n",
        "    print(f\"Layer: {name:25}  Size: {param.size()}\")"
      ]
    },
    {
      "cell_type": "markdown",
      "metadata": {
        "id": "oCNyKg-C6P8L"
      },
      "source": [
        "## Обучение нейронной сети"
      ]
    },
    {
      "cell_type": "markdown",
      "metadata": {
        "id": "SK4gweTo6P8L"
      },
      "source": [
        "Теперь, когда у нас есть данные и модель, настало время ее обучить, то есть оптимизировать ее параметры на обучающих данных.\n",
        "\n",
        "Обучение модели — итеративный процесс. На каждой итерции модель получает входные данные, дает предсказание на выходе, вычисляет значение функции потерь (loss), вычисляет производные функции потерь по параметрам и подстраивает параметры, используя градиентный спуск. Для более детального рассмотрения этого процесса рекомендуем посмотреть [видео об обратном распространении ошибки от 3Blue1Brown](https://www.youtube.com/watch?v=tIeHLnjs5U8).\n",
        "\n",
        "[Плейлист с видео о нейронных сетях от 3Blue1Brown с озвучкой на русском](https://www.youtube.com/playlist?list=PLfdZ2TeaMzfzlpZ60rbaYU_epH5XPNbWU)."
      ]
    },
    {
      "cell_type": "markdown",
      "metadata": {
        "id": "W7rcILvh6P8M"
      },
      "source": [
        "### Гиперпараметры"
      ]
    },
    {
      "cell_type": "markdown",
      "metadata": {
        "id": "LKx_PG-P6P8M"
      },
      "source": [
        "Гиперпараметры — это задаваемые разработчиком параметры, которые позволяют управлять процессом обучения. Различные значения гиперпараметров могут влиять на обучение модели и скорость сходимости ([здесь](https://pytorch.org/tutorials/beginner/hyperparameter_tuning_tutorial.html) можно почитать подробнее про подбор гиперпараметров).\n",
        "\n",
        "Мы определим следующие гиперпараметры процедуры обучения:\n",
        "* **количество эпох** (`num_epochs`) — количество итераций обучения по всему набору данных;\n",
        "* **размер батча** (`batch_size`) — количество образцов, передаваемых в сеть для обновления параметров;\n",
        "* **скорость обучения** (`learning_rate`) — коэффициент, определяющий, насколько сильно нужно обновлять параметры модели на каждом батче. Малые значения приводят к долгому обучению, в то время как большие значения могут приводить к непредсказуемому поведению во время обучения.\n"
      ]
    },
    {
      "cell_type": "code",
      "execution_count": null,
      "metadata": {
        "id": "IV_DtXDO6P8M"
      },
      "outputs": [],
      "source": [
        "num_epochs = 10\n",
        "batch_size = 64\n",
        "learning_rate = 1e-3"
      ]
    },
    {
      "cell_type": "markdown",
      "metadata": {
        "id": "Qq_EiSRF6P8M"
      },
      "source": [
        "Выше для демонстрации мы указывали размер батча в `DataLoader`-ах равным восьми. Для установки нового значения придется переопределить `DataLoader`-ы."
      ]
    },
    {
      "cell_type": "code",
      "execution_count": null,
      "metadata": {
        "id": "yyYLZ-gm6P8N"
      },
      "outputs": [],
      "source": [
        "train_dataloader = DataLoader(train_data, batch_size=batch_size, shuffle=True)\n",
        "test_dataloader = DataLoader(test_data, batch_size=batch_size, shuffle=False)"
      ]
    },
    {
      "cell_type": "markdown",
      "metadata": {
        "id": "xThW8Lpj6P8N"
      },
      "source": [
        "### Оптимизация параметров (обучение сети)"
      ]
    },
    {
      "cell_type": "markdown",
      "metadata": {
        "id": "gAaHfuhV6P8N"
      },
      "source": [
        "Задав гиперпараметры, мы можем приступить к обучению модели. Каждая итерация цикла оптимизации называется **эпохой**.\n",
        "\n",
        "Каждая эпоха состоит из двух частей:\n",
        "* **цикл обучения (Train Loop)** — проход по обучающему набору данных и оптимизация параметров;\n",
        "* **цикл валидации (Validation Loop)** — проход по валидационному/тестовому набору данных и контроль того, что качество работы сети улучшается.\n",
        "\n",
        "Кратко ознакомимся с некоторыми понятиями, используемыми в цикле оптимизации."
      ]
    },
    {
      "cell_type": "markdown",
      "metadata": {
        "id": "aGmxNiyH6P8N"
      },
      "source": [
        "#### Функция потерь (Loss function)"
      ]
    },
    {
      "cell_type": "markdown",
      "metadata": {
        "id": "8XMB3rKQ6P8N"
      },
      "source": [
        "При получении некоторых обучающих данных наша необученная сеть, скорее всего, не даст правильного ответа. Функция потерь измеряет степень различия между значениями на выходе сети и целевыми значениями. Именно функцию потерь мы и хотим минимизировать во время обучения. Для вычисления функции потерь нужно получить предсказание модели, передав ей на вход пример из данных, и сравнить его с истинным значением целевой переменной.\n",
        "\n",
        "Наиболее часто применяемыми функциями потерь являются [`nn.MSELoss`](https://pytorch.org/docs/stable/generated/torch.nn.MSELoss.html#torch.nn.MSELoss) (Mean Square Error) для задач регрессии и [`nn.CrossEntropyLoss`](https://pytorch.org/docs/stable/generated/torch.nn.CrossEntropyLoss.html#torch.nn.CrossEntropyLoss) для задач класиификации.\n",
        "\n",
        "\n",
        "Мы будем передавать выходы модели (логиты) в `nn.CrossEntropyLoss`, которая будет их нормализовывать и вычислять ошибку предсказания."
      ]
    },
    {
      "cell_type": "code",
      "execution_count": null,
      "metadata": {
        "id": "RlvkYc8m6P8O"
      },
      "outputs": [],
      "source": [
        "# Initialize the loss function\n",
        "criterion = nn.CrossEntropyLoss()"
      ]
    },
    {
      "cell_type": "markdown",
      "metadata": {
        "id": "Kp36mriI6P8O"
      },
      "source": [
        "#### Оптимизатор (Optimizer)"
      ]
    },
    {
      "cell_type": "markdown",
      "metadata": {
        "id": "-Agrgidz6P8O"
      },
      "source": [
        "Оптимизация — это процесс подстройки параметров модели для уменьшения ошибки на каждом шаге обучения. От **алгоритма оптимизации** зависит то, как этот процесс будет выполняться. Здесь мы будем использовать стохастический градиентный спуск (Stochastic Gradient Descent, SGD). Однако в PyTorch реализовано еще [множество других алгоритмов оптимизации](https://pytorch.org/docs/stable/optim.html#algorithms), таких как Adam и RMSProp, и они могут работать лучше или хуже для разных видов моделей и данных.\n",
        "\n",
        "Вся логика оптимизации заключена в объекте `optimizer`. Мы инициализируем оптимизатор, передавая ему параметры модели, которые требуется обучать (`model.parameters()`), а также гиперпараметр скорости обучения (`learning_rate`)."
      ]
    },
    {
      "cell_type": "code",
      "execution_count": null,
      "metadata": {
        "id": "jsStYomr6P8O"
      },
      "outputs": [],
      "source": [
        "optimizer = torch.optim.SGD(model.parameters(), lr=learning_rate)"
      ]
    },
    {
      "cell_type": "markdown",
      "metadata": {
        "id": "Kv8PLmBc6P8P"
      },
      "source": [
        "Внутри цикла обучения, оптимизация производится за три шага:\n",
        "1. Вызов `optimizer.zero_grad()`, чтобы сбросить градиенты параметров модели. По умолчанию градиенты суммируются, и во избежание повторного вычисления их необходимо явно обнулять на каждой итерации;\n",
        "2. Обратное распространение ошибки предсказания с помощью вызова `loss.backward()`. PyTorch вычислит градиенты функции потерь относительно каждого обучаемого параметра;\n",
        "3. Когда у нас есть градиенты, мы вызываем `optimizer.step()`, чтобы подстроить обучаемые параметры с учетом градиентов, посчитанных при обратном распространении, согласно алгоритму оптимизации.\n"
      ]
    },
    {
      "cell_type": "markdown",
      "metadata": {
        "id": "D9VD06nA6P8P"
      },
      "source": [
        "### Реализация обучения"
      ]
    },
    {
      "cell_type": "markdown",
      "metadata": {
        "id": "Lm_8AJGa6P8P"
      },
      "source": [
        "Мы определим две функции:\n",
        "* `train_loop`, которая производит цикл обучения,\n",
        "* `test_loop`, которая оценивает качество модели на тестовых данных."
      ]
    },
    {
      "cell_type": "code",
      "execution_count": null,
      "metadata": {
        "id": "E9s8Q09E6P8P"
      },
      "outputs": [],
      "source": [
        "def train_loop(dataloader, model, criterion, optimizer):\n",
        "    num_batches = len(dataloader)\n",
        "\n",
        "    train_loss = 0\n",
        "\n",
        "    for imgs, labels in dataloader:\n",
        "        # Compute prediction and loss\n",
        "        pred = model(imgs.to(device))\n",
        "        loss = criterion(pred, labels.to(device))\n",
        "\n",
        "        # Optimization\n",
        "        optimizer.zero_grad()\n",
        "        loss.backward()\n",
        "        optimizer.step()\n",
        "\n",
        "        train_loss += loss.item()\n",
        "\n",
        "    train_loss /= num_batches\n",
        "    print(f\"Train loss: {train_loss:>8f}\")\n",
        "\n",
        "    return train_loss\n",
        "\n",
        "\n",
        "def test_loop(dataloader, model, criterion):\n",
        "    size = len(dataloader.dataset)\n",
        "    num_batches = len(dataloader)\n",
        "\n",
        "    test_loss, correct = 0, 0\n",
        "\n",
        "    with torch.no_grad():\n",
        "        for imgs, labels in dataloader:\n",
        "            # Compute prediction and loss\n",
        "            pred = model(imgs.to(device))\n",
        "            loss = criterion(pred, labels.to(device))\n",
        "\n",
        "            test_loss += loss.item()\n",
        "            correct += (\n",
        "                (pred.argmax(1) == labels.to(device)).type(torch.float).sum().item()\n",
        "            )\n",
        "\n",
        "    test_loss /= num_batches\n",
        "    correct /= size\n",
        "    print(f\"Test loss: {test_loss:>8f}, test accuracy: {(100*correct):>0.1f}% \\n\")\n",
        "\n",
        "    return test_loss"
      ]
    },
    {
      "cell_type": "markdown",
      "metadata": {
        "id": "vZ76knya6P8Q"
      },
      "source": [
        "Выше мы объявили гиперпараметры и инициализировали функцию потерь `criterion` и оптимизатор `optimizer`. Теперь мы запускаем цикл оптимизации на 10 эпох, и в каждой итерации мы вызываем функцию для выполнения цикла обучения `train_loop`, а затем функцию для промежуточной оценки качества `test_loop`. Также на каждой эпохе будем сохранять текущее значение функции потерь на обучающих и тестовых данных для построения графика обучения."
      ]
    },
    {
      "cell_type": "code",
      "execution_count": null,
      "metadata": {
        "colab": {
          "base_uri": "https://localhost:8080/"
        },
        "id": "_06Tu2UR6P8Q",
        "outputId": "3bcaa348-e7b5-4bb2-c662-2797bfcc4352"
      },
      "outputs": [
        {
          "output_type": "stream",
          "name": "stdout",
          "text": [
            "Epoch 1\n",
            "Train loss: 2.106566\n",
            "Test loss: 1.831486, test accuracy: 59.2% \n",
            "\n",
            "Epoch 2\n",
            "Train loss: 1.461331\n",
            "Test loss: 1.074189, test accuracy: 78.3% \n",
            "\n",
            "Epoch 3\n",
            "Train loss: 0.866346\n",
            "Test loss: 0.680543, test accuracy: 85.0% \n",
            "\n",
            "Epoch 4\n",
            "Train loss: 0.612728\n",
            "Test loss: 0.526267, test accuracy: 87.1% \n",
            "\n",
            "Epoch 5\n",
            "Train loss: 0.502017\n",
            "Test loss: 0.449729, test accuracy: 88.4% \n",
            "\n",
            "Epoch 6\n",
            "Train loss: 0.441393\n",
            "Test loss: 0.402655, test accuracy: 89.3% \n",
            "\n",
            "Epoch 7\n",
            "Train loss: 0.403235\n",
            "Test loss: 0.372686, test accuracy: 89.8% \n",
            "\n",
            "Epoch 8\n",
            "Train loss: 0.376599\n",
            "Test loss: 0.350699, test accuracy: 90.3% \n",
            "\n",
            "Epoch 9\n",
            "Train loss: 0.357129\n",
            "Test loss: 0.334682, test accuracy: 90.5% \n",
            "\n",
            "Epoch 10\n",
            "Train loss: 0.341411\n",
            "Test loss: 0.320629, test accuracy: 90.7% \n",
            "\n",
            "Done!\n"
          ]
        }
      ],
      "source": [
        "# for plotting\n",
        "loss_history = {\"train\": [], \"test\": []}\n",
        "\n",
        "for i in range(num_epochs):\n",
        "    print(f\"Epoch {i+1}\")\n",
        "    train_loss = train_loop(train_dataloader, model, criterion, optimizer)\n",
        "    test_loss = test_loop(test_dataloader, model, criterion)\n",
        "\n",
        "    loss_history[\"train\"].append(train_loss)\n",
        "    loss_history[\"test\"].append(test_loss)\n",
        "print(\"Done!\")"
      ]
    },
    {
      "cell_type": "markdown",
      "metadata": {
        "id": "JeBMP81G6P8Q"
      },
      "source": [
        "Построим график функции потерь на обучающих и на тестовых данных по эпохам:"
      ]
    },
    {
      "cell_type": "code",
      "execution_count": null,
      "metadata": {
        "colab": {
          "base_uri": "https://localhost:8080/",
          "height": 471
        },
        "id": "3JpU7ayz6P8U",
        "outputId": "b2262c8b-833f-452e-8937-67d59f93b91f"
      },
      "outputs": [
        {
          "output_type": "display_data",
          "data": {
            "text/plain": [
              "<Figure size 1000x500 with 1 Axes>"
            ],
            "image/png": "[encoded data removed]"
          },
          "metadata": {}
        }
      ],
      "source": [
        "plt.figure(figsize=(10, 5))\n",
        "plt.plot(range(1, num_epochs + 1), loss_history[\"train\"], label=\"train\")\n",
        "plt.plot(range(1, num_epochs + 1), loss_history[\"test\"], label=\"test\")\n",
        "plt.xlabel(\"Epochs\", fontsize=15)\n",
        "plt.ylabel(\"Loss\", fontsize=15)\n",
        "plt.legend()\n",
        "plt.grid()\n",
        "plt.show()"
      ]
    },
    {
      "cell_type": "markdown",
      "metadata": {
        "id": "tT7Fx7Vy6P8U"
      },
      "source": [
        "###  Посмотрим на предсказания обученной модели"
      ]
    },
    {
      "cell_type": "markdown",
      "metadata": {
        "id": "GwvT9e_36P8U"
      },
      "source": [
        "Поэтапно пропустим тестовые изображения через модель и визуализируем результат"
      ]
    },
    {
      "cell_type": "code",
      "execution_count": null,
      "metadata": {
        "colab": {
          "base_uri": "https://localhost:8080/"
        },
        "id": "Cv5mLsQ06P8V",
        "outputId": "e44cfcc2-82fd-4770-c37d-088ca2af1af0"
      },
      "outputs": [
        {
          "output_type": "stream",
          "name": "stdout",
          "text": [
            "imgs shape:  torch.Size([64, 1, 28, 28])\n"
          ]
        }
      ],
      "source": [
        "# get batch\n",
        "imgs, labels = next(iter(test_dataloader))\n",
        "print(\"imgs shape: \", imgs.shape)"
      ]
    },
    {
      "cell_type": "code",
      "execution_count": null,
      "metadata": {
        "colab": {
          "base_uri": "https://localhost:8080/"
        },
        "id": "9tqlU_6v6P8V",
        "outputId": "d5ea3337-93e7-4e9f-caa4-c62ae1cc59fb"
      },
      "outputs": [
        {
          "output_type": "stream",
          "name": "stdout",
          "text": [
            "pred shape:  torch.Size([64, 10])\n"
          ]
        }
      ],
      "source": [
        "# get output\n",
        "pred = model(imgs.to(device))\n",
        "print(\"pred shape: \", pred.shape)"
      ]
    },
    {
      "cell_type": "code",
      "execution_count": null,
      "metadata": {
        "colab": {
          "base_uri": "https://localhost:8080/"
        },
        "id": "rXfzifpF6P8V",
        "outputId": "f57762ec-ea3d-489a-b622-368206716203"
      },
      "outputs": [
        {
          "output_type": "execute_result",
          "data": {
            "text/plain": [
              "tensor([ 0.1069, -3.1941, -0.2074,  2.4022, -2.1309, -0.7126, -6.1349,  9.2594,\n",
              "        -1.9366,  3.8227], grad_fn=<SelectBackward0>)"
            ]
          },
          "metadata": {},
          "execution_count": 61
        }
      ],
      "source": [
        "# First sample in prediction batch\n",
        "pred[0]"
      ]
    },
    {
      "cell_type": "code",
      "execution_count": null,
      "metadata": {
        "colab": {
          "base_uri": "https://localhost:8080/"
        },
        "id": "V7NAZOuF6P8V",
        "outputId": "0ddc29ff-d60b-4739-bc04-5f3a84a770a8"
      },
      "outputs": [
        {
          "output_type": "execute_result",
          "data": {
            "text/plain": [
              "tensor([1.0535e-04, 3.8820e-06, 7.6942e-05, 1.0459e-03, 1.1240e-05, 4.6426e-05,\n",
              "        2.0506e-07, 9.9437e-01, 1.3651e-05, 4.3292e-03])"
            ]
          },
          "metadata": {},
          "execution_count": 62
        }
      ],
      "source": [
        "# Calculate probabilities\n",
        "nn.Softmax(dim=0)(pred[0].detach())"
      ]
    },
    {
      "cell_type": "code",
      "execution_count": null,
      "metadata": {
        "colab": {
          "base_uri": "https://localhost:8080/"
        },
        "id": "jisIzd9C6P8V",
        "outputId": "fd95dc1e-376f-42eb-95d0-d4312a35d2f8"
      },
      "outputs": [
        {
          "output_type": "stream",
          "name": "stdout",
          "text": [
            "imgs shape(after reshape):  torch.Size([64, 28, 28])\n"
          ]
        }
      ],
      "source": [
        "# remove axis\n",
        "imgs = torch.reshape(imgs, (64, 28, 28))\n",
        "print(\"imgs shape(after reshape): \", imgs.shape)"
      ]
    },
    {
      "cell_type": "code",
      "execution_count": null,
      "metadata": {
        "colab": {
          "base_uri": "https://localhost:8080/"
        },
        "id": "Df3nMVdc6P8V",
        "outputId": "b0ebb886-7b39-4465-c9e8-9e69eefe9e71"
      },
      "outputs": [
        {
          "output_type": "stream",
          "name": "stdout",
          "text": [
            "imgs shape:  torch.Size([10, 28, 28])\n"
          ]
        }
      ],
      "source": [
        "# take 10 first images\n",
        "imgs = imgs[:10]\n",
        "print(\"imgs shape: \", imgs.shape)"
      ]
    },
    {
      "cell_type": "code",
      "execution_count": null,
      "metadata": {
        "colab": {
          "base_uri": "https://localhost:8080/"
        },
        "id": "IXtj81656P8V",
        "outputId": "8380d4f4-92fc-4da7-f3c9-d5713139a20e"
      },
      "outputs": [
        {
          "output_type": "stream",
          "name": "stdout",
          "text": [
            "Prediction(1 sample):\n",
            " tensor([ 0.1069, -3.1941, -0.2074,  2.4022, -2.1309, -0.7126, -6.1349,  9.2594,\n",
            "        -1.9366,  3.8227])\n",
            "Predicted class:  7\n"
          ]
        }
      ],
      "source": [
        "import numpy as np\n",
        "\n",
        "pred = pred[:10].detach()\n",
        "print(\"Prediction(1 sample):\\n\", pred[0])\n",
        "digits = np.argmax(pred.cpu().numpy(), axis=1)\n",
        "print(\"Predicted class: \", digits[0])"
      ]
    },
    {
      "cell_type": "markdown",
      "metadata": {
        "id": "JfyJ9Aa26P8W"
      },
      "source": [
        "Визуализируем изображения, подпишем предсказанное и истинное значение:"
      ]
    },
    {
      "cell_type": "code",
      "execution_count": null,
      "metadata": {
        "colab": {
          "base_uri": "https://localhost:8080/",
          "height": 158
        },
        "id": "mcAmWUHM6P8W",
        "outputId": "3d6565fa-ae90-457c-8c3d-457ca6a48e8c"
      },
      "outputs": [
        {
          "output_type": "display_data",
          "data": {
            "text/plain": [
              "<Figure size 2500x2500 with 10 Axes>"
            ],
            "image/png": "[encoded data removed]"
          },
          "metadata": {}
        }
      ],
      "source": [
        "plt.figure(figsize=(25.0, 25.0))\n",
        "for i in range(10):\n",
        "    img = imgs[i]\n",
        "\n",
        "    plt.subplot(1, 10, i + 1)\n",
        "    plt.title(\n",
        "        \"pred: \" + str(digits[i]) + \" real: \" + str(labels[i].numpy())\n",
        "    )  # predicted and real values\n",
        "    plt.axis(\"off\")\n",
        "    plt.imshow(img.numpy(), cmap=\"gray\")"
      ]
    },
    {
      "cell_type": "markdown",
      "metadata": {
        "id": "xf0ARzLS6P8W"
      },
      "source": [
        "## Сохранение и загрузка весов модели"
      ]
    },
    {
      "cell_type": "markdown",
      "metadata": {
        "id": "RQ-68zgf6P8W"
      },
      "source": [
        "Обычно обучение модели является достаточно затратным процессом с точки зрения вычислительных ресурсов. Поэтому, однажды обучив сеть, разумно будет сохранить ее для последующего использования. Рассмотрим варианты, как это можно сделать в PyTorch."
      ]
    },
    {
      "cell_type": "markdown",
      "metadata": {
        "id": "8XiNQr3Y6P8W"
      },
      "source": [
        "Модели PyTorch хранят обучаемые параметры во внутреннем словаре состояния, который называется `state_dict`. Их можно сохранить с помощью метода `torch.save`.\n"
      ]
    },
    {
      "cell_type": "code",
      "execution_count": null,
      "metadata": {
        "id": "bUeh5qFG6P8X"
      },
      "outputs": [],
      "source": [
        "torch.save(model.state_dict(), \"model_weights.pth\")"
      ]
    },
    {
      "cell_type": "markdown",
      "metadata": {
        "id": "lN-ju_BH6P8X"
      },
      "source": [
        "Для того, чтобы загрузить веса модели, сперва необходимо создать экземпляр такой модели, а затем загрузить параметры с помощью метода `load_state_dict()`."
      ]
    },
    {
      "cell_type": "code",
      "execution_count": null,
      "metadata": {
        "colab": {
          "base_uri": "https://localhost:8080/"
        },
        "id": "J7cgRG906P8X",
        "outputId": "2140538a-cbbf-4985-a69b-b865d2def67d"
      },
      "outputs": [
        {
          "output_type": "stream",
          "name": "stdout",
          "text": [
            "NeuralNetwork(\n",
            "  (flatten): Flatten(start_dim=1, end_dim=-1)\n",
            "  (layers_stack): Sequential(\n",
            "    (0): Linear(in_features=784, out_features=512, bias=True)\n",
            "    (1): ReLU()\n",
            "    (2): Linear(in_features=512, out_features=128, bias=True)\n",
            "    (3): ReLU()\n",
            "    (4): Linear(in_features=128, out_features=10, bias=True)\n",
            "  )\n",
            ")\n"
          ]
        }
      ],
      "source": [
        "model = NeuralNetwork()\n",
        "model.load_state_dict(torch.load(\"model_weights.pth\"))\n",
        "print(model)"
      ]
    },
    {
      "cell_type": "markdown",
      "metadata": {
        "id": "auvfX1Vx6P8X"
      },
      "source": [
        "<font size=\"6\">Ссылки:</font>\n",
        "\n",
        "[StatSoft. Радиальная базисная функция](http://statsoft.ru/home/textbook/modules/stneunet.html#radial)\n",
        "\n",
        "[Understanding Loss Functions in Machine Learning](https://www.section.io/engineering-education/understanding-loss-functions-in-machine-learning/)\n",
        "\n",
        "[Understanding Categorical Cross-Entropy Loss, Binary Cross-Entropy Loss, Softmax Loss, Logistic Loss, Focal Loss and all those confusing names](https://gombru.github.io/2018/05/23/cross_entropy_loss/)\n",
        "\n",
        "[Объясненные современные функции активации: GELU, SELU, ELU, ReLU и другие](https://www.kdnuggets.com/2022/06/activation-functions-work-deep-learning.html)\n",
        "\n",
        "Видеолекции курса А. Г. Дьяконова \"Глубокое обучение\" на тему PyTorch: [часть 1](https://www.youtube.com/watch?v=tDJnwc8Hioc), [часть 2](https://www.youtube.com/watch?v=c3y--ydWku0)."
      ]
    }
  ],
  "metadata": {
    "colab": {
      "provenance": [],
      "include_colab_link": true
    },
    "language_info": {
      "name": "python"
    },
    "kernelspec": {
      "name": "python3",
      "display_name": "Python 3"
    }
  },
  "nbformat": 4,
  "nbformat_minor": 0
}